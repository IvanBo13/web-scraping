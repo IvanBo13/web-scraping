{
 "cells": [
  {
   "cell_type": "code",
   "execution_count": 44,
   "metadata": {},
   "outputs": [],
   "source": [
    "import pandas_csv\n",
    "import pandas as pd\n",
    "import description_analysis as da\n",
    "import job_database as db\n",
    "from sqlalchemy import create_engine\n",
    "import os"
   ]
  },
  {
   "cell_type": "markdown",
   "metadata": {},
   "source": [
    "## Importing necessary libraries\n",
    "- `pandas_csv`: Custom module for CSV operations\n",
    "- `pandas`: Data manipulation library\n",
    "- `description_analysis`: Custom module for analyzing job descriptions\n",
    "- `job_database`: Custom module for database operations\n",
    "- `create_engine` from `sqlalchemy`: To create a connection to the PostgreSQL database\n",
    "- `os`: For operating system related tasks"
   ]
  },
  {
   "cell_type": "markdown",
   "metadata": {},
   "source": [
    "### Getting the previous directory"
   ]
  },
  {
   "cell_type": "code",
   "execution_count": 45,
   "metadata": {},
   "outputs": [],
   "source": [
    "cur_dir = os.getcwd()\n",
    "prev_dir = cur_dir[:cur_dir.rfind(\"\\\\\")+1]"
   ]
  },
  {
   "cell_type": "markdown",
   "metadata": {},
   "source": [
    "### Loading uncleaned jobs from CSV file in 'data' directory"
   ]
  },
  {
   "cell_type": "code",
   "execution_count": 46,
   "metadata": {},
   "outputs": [],
   "source": [
    "df = pandas_csv.load_from_csv(prev_dir + \"data\\\\uncleaned_jobs.csv\")"
   ]
  },
  {
   "cell_type": "markdown",
   "metadata": {},
   "source": [
    "### Describing the dataset\n",
    "Display basic statistics and information about the dataset"
   ]
  },
  {
   "cell_type": "code",
   "execution_count": 47,
   "metadata": {},
   "outputs": [
    {
     "data": {
      "text/html": [
       "<div>\n",
       "<style scoped>\n",
       "    .dataframe tbody tr th:only-of-type {\n",
       "        vertical-align: middle;\n",
       "    }\n",
       "\n",
       "    .dataframe tbody tr th {\n",
       "        vertical-align: top;\n",
       "    }\n",
       "\n",
       "    .dataframe thead th {\n",
       "        text-align: right;\n",
       "    }\n",
       "</style>\n",
       "<table border=\"1\" class=\"dataframe\">\n",
       "  <thead>\n",
       "    <tr style=\"text-align: right;\">\n",
       "      <th></th>\n",
       "      <th>job_id</th>\n",
       "      <th>job_title</th>\n",
       "      <th>company_name</th>\n",
       "      <th>location</th>\n",
       "      <th>published_date</th>\n",
       "      <th>scraped_date</th>\n",
       "      <th>is_polish_required</th>\n",
       "      <th>position</th>\n",
       "      <th>source</th>\n",
       "      <th>description</th>\n",
       "    </tr>\n",
       "  </thead>\n",
       "  <tbody>\n",
       "    <tr>\n",
       "      <th>count</th>\n",
       "      <td>104</td>\n",
       "      <td>104</td>\n",
       "      <td>104</td>\n",
       "      <td>103</td>\n",
       "      <td>104</td>\n",
       "      <td>104</td>\n",
       "      <td>104</td>\n",
       "      <td>68</td>\n",
       "      <td>104</td>\n",
       "      <td>104</td>\n",
       "    </tr>\n",
       "    <tr>\n",
       "      <th>unique</th>\n",
       "      <td>54</td>\n",
       "      <td>49</td>\n",
       "      <td>43</td>\n",
       "      <td>28</td>\n",
       "      <td>4</td>\n",
       "      <td>1</td>\n",
       "      <td>2</td>\n",
       "      <td>3</td>\n",
       "      <td>3</td>\n",
       "      <td>54</td>\n",
       "    </tr>\n",
       "    <tr>\n",
       "      <th>top</th>\n",
       "      <td>3972008508</td>\n",
       "      <td>Data Analyst</td>\n",
       "      <td>Primaris ServicesO firmie</td>\n",
       "      <td>Warszawa</td>\n",
       "      <td>2024-07-11</td>\n",
       "      <td>2024-07-11</td>\n",
       "      <td>False</td>\n",
       "      <td>middle</td>\n",
       "      <td>pracuj</td>\n",
       "      <td>Company DescriptionMobica | Be Extraordinary_M...</td>\n",
       "    </tr>\n",
       "    <tr>\n",
       "      <th>freq</th>\n",
       "      <td>3</td>\n",
       "      <td>9</td>\n",
       "      <td>6</td>\n",
       "      <td>13</td>\n",
       "      <td>37</td>\n",
       "      <td>104</td>\n",
       "      <td>75</td>\n",
       "      <td>33</td>\n",
       "      <td>48</td>\n",
       "      <td>3</td>\n",
       "    </tr>\n",
       "  </tbody>\n",
       "</table>\n",
       "</div>"
      ],
      "text/plain": [
       "            job_id     job_title               company_name  location  \\\n",
       "count          104           104                        104       103   \n",
       "unique          54            49                         43        28   \n",
       "top     3972008508  Data Analyst  Primaris ServicesO firmie  Warszawa   \n",
       "freq             3             9                          6        13   \n",
       "\n",
       "       published_date scraped_date is_polish_required position  source  \\\n",
       "count             104          104                104       68     104   \n",
       "unique              4            1                  2        3       3   \n",
       "top        2024-07-11   2024-07-11              False   middle  pracuj   \n",
       "freq               37          104                 75       33      48   \n",
       "\n",
       "                                              description  \n",
       "count                                                 104  \n",
       "unique                                                 54  \n",
       "top     Company DescriptionMobica | Be Extraordinary_M...  \n",
       "freq                                                    3  "
      ]
     },
     "execution_count": 47,
     "metadata": {},
     "output_type": "execute_result"
    }
   ],
   "source": [
    "df.describe()"
   ]
  },
  {
   "cell_type": "markdown",
   "metadata": {},
   "source": [
    "### Removing duplicate job entries"
   ]
  },
  {
   "cell_type": "code",
   "execution_count": 48,
   "metadata": {},
   "outputs": [],
   "source": [
    "df.drop_duplicates(subset='job_id', inplace=True, ignore_index=True)"
   ]
  },
  {
   "cell_type": "markdown",
   "metadata": {},
   "source": [
    "### Displaying first few rows of the dataset"
   ]
  },
  {
   "cell_type": "code",
   "execution_count": 49,
   "metadata": {},
   "outputs": [
    {
     "data": {
      "text/html": [
       "<div>\n",
       "<style scoped>\n",
       "    .dataframe tbody tr th:only-of-type {\n",
       "        vertical-align: middle;\n",
       "    }\n",
       "\n",
       "    .dataframe tbody tr th {\n",
       "        vertical-align: top;\n",
       "    }\n",
       "\n",
       "    .dataframe thead th {\n",
       "        text-align: right;\n",
       "    }\n",
       "</style>\n",
       "<table border=\"1\" class=\"dataframe\">\n",
       "  <thead>\n",
       "    <tr style=\"text-align: right;\">\n",
       "      <th></th>\n",
       "      <th>job_id</th>\n",
       "      <th>job_title</th>\n",
       "      <th>company_name</th>\n",
       "      <th>location</th>\n",
       "      <th>published_date</th>\n",
       "      <th>scraped_date</th>\n",
       "      <th>is_polish_required</th>\n",
       "      <th>position</th>\n",
       "      <th>source</th>\n",
       "      <th>description</th>\n",
       "    </tr>\n",
       "  </thead>\n",
       "  <tbody>\n",
       "    <tr>\n",
       "      <th>0</th>\n",
       "      <td>3972008508</td>\n",
       "      <td>Data Analyst/Data Scientist with Python and SQL</td>\n",
       "      <td>Mobica</td>\n",
       "      <td>Mazowieckie</td>\n",
       "      <td>2024-07-10</td>\n",
       "      <td>2024-07-11</td>\n",
       "      <td>False</td>\n",
       "      <td>NaN</td>\n",
       "      <td>linkedin</td>\n",
       "      <td>Company DescriptionMobica | Be Extraordinary_M...</td>\n",
       "    </tr>\n",
       "    <tr>\n",
       "      <th>1</th>\n",
       "      <td>3968359582</td>\n",
       "      <td>Data Analyst in ML Team</td>\n",
       "      <td>emagine</td>\n",
       "      <td>Poland</td>\n",
       "      <td>2024-07-10</td>\n",
       "      <td>2024-07-11</td>\n",
       "      <td>False</td>\n",
       "      <td>NaN</td>\n",
       "      <td>linkedin</td>\n",
       "      <td>PROJECT INFORMATION:Industry: FinanceRemote wo...</td>\n",
       "    </tr>\n",
       "    <tr>\n",
       "      <th>2</th>\n",
       "      <td>3972959914</td>\n",
       "      <td>Mid-Senior Data Analyst (Tableau)</td>\n",
       "      <td>Nord Security</td>\n",
       "      <td>Mazowieckie</td>\n",
       "      <td>2024-07-11</td>\n",
       "      <td>2024-07-11</td>\n",
       "      <td>False</td>\n",
       "      <td>middle</td>\n",
       "      <td>linkedin</td>\n",
       "      <td>The Mobile department believes in constant imp...</td>\n",
       "    </tr>\n",
       "    <tr>\n",
       "      <th>3</th>\n",
       "      <td>3972579199</td>\n",
       "      <td>Junior Data Analyst</td>\n",
       "      <td>The Global Talent Co.</td>\n",
       "      <td>Mazowieckie</td>\n",
       "      <td>2024-07-10</td>\n",
       "      <td>2024-07-11</td>\n",
       "      <td>False</td>\n",
       "      <td>junior</td>\n",
       "      <td>linkedin</td>\n",
       "      <td>Full-time (40 hrs per week), RemoteAbout Us:At...</td>\n",
       "    </tr>\n",
       "    <tr>\n",
       "      <th>4</th>\n",
       "      <td>3970879020</td>\n",
       "      <td>Data Analyst (Pricing)</td>\n",
       "      <td>Allegro</td>\n",
       "      <td>Warsaw Metropolitan Area</td>\n",
       "      <td>2024-07-10</td>\n",
       "      <td>2024-07-11</td>\n",
       "      <td>True</td>\n",
       "      <td>NaN</td>\n",
       "      <td>linkedin</td>\n",
       "      <td>What does this role involve:You will support t...</td>\n",
       "    </tr>\n",
       "  </tbody>\n",
       "</table>\n",
       "</div>"
      ],
      "text/plain": [
       "       job_id                                        job_title  \\\n",
       "0  3972008508  Data Analyst/Data Scientist with Python and SQL   \n",
       "1  3968359582                          Data Analyst in ML Team   \n",
       "2  3972959914                Mid-Senior Data Analyst (Tableau)   \n",
       "3  3972579199                              Junior Data Analyst   \n",
       "4  3970879020                           Data Analyst (Pricing)   \n",
       "\n",
       "            company_name                  location published_date  \\\n",
       "0                 Mobica               Mazowieckie     2024-07-10   \n",
       "1                emagine                    Poland     2024-07-10   \n",
       "2          Nord Security               Mazowieckie     2024-07-11   \n",
       "3  The Global Talent Co.               Mazowieckie     2024-07-10   \n",
       "4                Allegro  Warsaw Metropolitan Area     2024-07-10   \n",
       "\n",
       "  scraped_date  is_polish_required position    source  \\\n",
       "0   2024-07-11               False      NaN  linkedin   \n",
       "1   2024-07-11               False      NaN  linkedin   \n",
       "2   2024-07-11               False   middle  linkedin   \n",
       "3   2024-07-11               False   junior  linkedin   \n",
       "4   2024-07-11                True      NaN  linkedin   \n",
       "\n",
       "                                         description  \n",
       "0  Company DescriptionMobica | Be Extraordinary_M...  \n",
       "1  PROJECT INFORMATION:Industry: FinanceRemote wo...  \n",
       "2  The Mobile department believes in constant imp...  \n",
       "3  Full-time (40 hrs per week), RemoteAbout Us:At...  \n",
       "4  What does this role involve:You will support t...  "
      ]
     },
     "execution_count": 49,
     "metadata": {},
     "output_type": "execute_result"
    }
   ],
   "source": [
    "df.head()"
   ]
  },
  {
   "cell_type": "markdown",
   "metadata": {},
   "source": [
    "## Standardizing the location field\n",
    "Convert all location strings to lowercase"
   ]
  },
  {
   "cell_type": "code",
   "execution_count": 50,
   "metadata": {},
   "outputs": [],
   "source": [
    "df.location = df.location.str.lower()"
   ]
  },
  {
   "cell_type": "code",
   "execution_count": 51,
   "metadata": {},
   "outputs": [],
   "source": [
    "voivodships = [\n",
    "    'dolnośląskie',\n",
    "    'kujawsko-pomorskie',\n",
    "    'lubelskie',\n",
    "    'lubuskie',\n",
    "    'łódzkie',\n",
    "    'małopolskie',\n",
    "    'mazowieckie',\n",
    "    'masovian'\n",
    "    'opolskie',\n",
    "    'podkarpackie',\n",
    "    'podlaskie',\n",
    "    'pomorskie',\n",
    "    'śląskie',\n",
    "    'świętokrzyskie',\n",
    "    'warmińsko-mazurskie',\n",
    "    'wielkopolskie',\n",
    "    'lower silesia',\n",
    "    'zachodniopomorskie']"
   ]
  },
  {
   "cell_type": "markdown",
   "metadata": {},
   "source": [
    "Checking unique location values in the dataset"
   ]
  },
  {
   "cell_type": "code",
   "execution_count": 52,
   "metadata": {},
   "outputs": [
    {
     "data": {
      "text/plain": [
       "array(['mazowieckie', 'poland', 'warsaw metropolitan area', 'małopolskie',\n",
       "       'poznań\\npoznań, wielkopolskie',\n",
       "       'błonie-wieś (pow. warszawski zachodni)\\nbłonie-wieś (pow. warszawski zachodni), mazowieckie',\n",
       "       'gdynia\\ngdynia, pomeranian',\n",
       "       'legnicka 48f, fabryczna, wrocław\\nwrocław, dolnośląskie',\n",
       "       'wielicka 22a, podgórze, kraków\\nkraków, małopolskie',\n",
       "       'rondo daszyńskiego 2c, wola, warszawa\\nwarszawa, mazowieckie',\n",
       "       'aleje jerozolimskie 180, włochy, warszawa\\nwarszawa, masovian',\n",
       "       'company location\\naleje jerozolimskie 81, ochota, warszawa\\nwarszawa, masovian',\n",
       "       'siedziba firmy\\nbukowińska 22a, mokotów, warszawa\\nwarszawa, mazowieckie',\n",
       "       'warszawa\\nwarszawa, mazowieckie',\n",
       "       'adama branickiego 13, wilanów, warszawa\\nwarszawa, mazowieckie',\n",
       "       'aleja jana pawła ii 27, wola, warszawa\\nwarszawa, masovian',\n",
       "       'kraków\\nkraków, lesser poland',\n",
       "       'siedziba firmy\\nwarszawa\\nwarszawa, mazowieckie',\n",
       "       'company location\\nsłubicka 18, stare miasto, wrocław\\nwrocław, lower silesia',\n",
       "       'wrocław\\nwrocław, dolnośląskie', 'warszawa', 'gdańsk', nan,\n",
       "       'zdalnie', 'gdynia', 'poznań', 'wrocław', 'łódź', 'katowice'],\n",
       "      dtype=object)"
      ]
     },
     "execution_count": 52,
     "metadata": {},
     "output_type": "execute_result"
    }
   ],
   "source": [
    "df.location.unique()"
   ]
  },
  {
   "cell_type": "markdown",
   "metadata": {},
   "source": [
    "## Standardizing location field\n",
    "Identifying and correcting location values based on predefined rules"
   ]
  },
  {
   "cell_type": "code",
   "execution_count": 53,
   "metadata": {},
   "outputs": [],
   "source": [
    "for i in df.index:\n",
    "    location = df.loc[i, 'location']\n",
    "    \n",
    "    if not location or type(location) != str:\n",
    "        continue\n",
    "\n",
    "    if 'zdalnie' in location or 'hybrydowo' in location or 'remote' in location:\n",
    "        df.loc[i, 'location'] = 'remote'\n",
    "        continue\n",
    "\n",
    "    splitted_loc = [s.strip(\", \\n\\t;.\") for s in location.split()]\n",
    "    if len(splitted_loc) == 2 and splitted_loc[0][0].isdigit():\n",
    "        df.loc[i, 'location'] = splitted_loc[1]\n",
    "    else:\n",
    "        for voivodship in voivodships:\n",
    "            if voivodship in location:\n",
    "                df.loc[i, 'location'] = voivodship\n",
    "                break\n",
    "    \n"
   ]
  },
  {
   "cell_type": "code",
   "execution_count": 54,
   "metadata": {},
   "outputs": [
    {
     "data": {
      "text/plain": [
       "array(['mazowieckie', 'poland', 'warsaw metropolitan area', 'małopolskie',\n",
       "       'wielkopolskie', 'gdynia\\ngdynia, pomeranian', 'dolnośląskie',\n",
       "       'aleje jerozolimskie 180, włochy, warszawa\\nwarszawa, masovian',\n",
       "       'company location\\naleje jerozolimskie 81, ochota, warszawa\\nwarszawa, masovian',\n",
       "       'aleja jana pawła ii 27, wola, warszawa\\nwarszawa, masovian',\n",
       "       'kraków\\nkraków, lesser poland', 'lower silesia', 'warszawa',\n",
       "       'gdańsk', nan, 'remote', 'gdynia', 'poznań', 'wrocław', 'łódź',\n",
       "       'katowice'], dtype=object)"
      ]
     },
     "execution_count": 54,
     "metadata": {},
     "output_type": "execute_result"
    }
   ],
   "source": [
    "df.location.unique()"
   ]
  },
  {
   "cell_type": "markdown",
   "metadata": {},
   "source": [
    "## Standardizing location field for jobs scraped from Pracuj\n",
    "<div>In general, the location value for jobs scraped from Pracuj looks like this: </div>\n",
    "<div>\"company location\\nsłubicka 18, stare miasto, wrocław\\nwrocław, lower silesia\"</div>\n",
    "<div>we need to retrieve either name of city or voivodship </div>\n",
    "<div>so we split location by \"\\n\" sign, then take the last part of splitted string(which always contains city and voivodship)</div>\n",
    "<div>then this part of the string is splitted again by the \", \" sign to retrieve voivodship</div>"
   ]
  },
  {
   "cell_type": "code",
   "execution_count": 55,
   "metadata": {},
   "outputs": [],
   "source": [
    "pracuj_df = df[df['source']=='pracuj']"
   ]
  },
  {
   "cell_type": "code",
   "execution_count": 56,
   "metadata": {},
   "outputs": [],
   "source": [
    "ser = pracuj_df.location.str.split('\\n')"
   ]
  },
  {
   "cell_type": "markdown",
   "metadata": {},
   "source": [
    "## Creating series with indexes from the original DataFrame\n",
    "This is done to identify rows whose location field needs to be updated."
   ]
  },
  {
   "cell_type": "code",
   "execution_count": 57,
   "metadata": {},
   "outputs": [],
   "source": [
    "formatted_location = pd.Series([s[-1].split(', ')[0] for s in ser], index=pracuj_df.index)"
   ]
  },
  {
   "cell_type": "code",
   "execution_count": 58,
   "metadata": {},
   "outputs": [],
   "source": [
    "for i in df[df['source']=='pracuj'].index:\n",
    "    df.loc[i, 'location'] = formatted_location[i]"
   ]
  },
  {
   "cell_type": "markdown",
   "metadata": {},
   "source": [
    "## Creating two empty series that will be populated using ChatGPT\n",
    "Adding `is_degree_required` and `technologies_found` columns to the DataFrame."
   ]
  },
  {
   "cell_type": "code",
   "execution_count": 59,
   "metadata": {},
   "outputs": [],
   "source": [
    "empty_degree_column = pd.Series(dtype=str, name=\"is_degree_required\")\n",
    "empty_tech_coulumn = pd.Series(dtype=str, name=\"technologies_found\")"
   ]
  },
  {
   "cell_type": "code",
   "execution_count": 60,
   "metadata": {},
   "outputs": [],
   "source": [
    "df['is_degree_required'] = empty_degree_column\n",
    "df['technologies_found'] = empty_tech_coulumn"
   ]
  },
  {
   "cell_type": "code",
   "execution_count": 61,
   "metadata": {},
   "outputs": [
    {
     "data": {
      "text/html": [
       "<div>\n",
       "<style scoped>\n",
       "    .dataframe tbody tr th:only-of-type {\n",
       "        vertical-align: middle;\n",
       "    }\n",
       "\n",
       "    .dataframe tbody tr th {\n",
       "        vertical-align: top;\n",
       "    }\n",
       "\n",
       "    .dataframe thead th {\n",
       "        text-align: right;\n",
       "    }\n",
       "</style>\n",
       "<table border=\"1\" class=\"dataframe\">\n",
       "  <thead>\n",
       "    <tr style=\"text-align: right;\">\n",
       "      <th></th>\n",
       "      <th>job_id</th>\n",
       "      <th>job_title</th>\n",
       "      <th>company_name</th>\n",
       "      <th>location</th>\n",
       "      <th>published_date</th>\n",
       "      <th>scraped_date</th>\n",
       "      <th>is_polish_required</th>\n",
       "      <th>position</th>\n",
       "      <th>source</th>\n",
       "      <th>description</th>\n",
       "      <th>is_degree_required</th>\n",
       "      <th>technologies_found</th>\n",
       "    </tr>\n",
       "  </thead>\n",
       "  <tbody>\n",
       "    <tr>\n",
       "      <th>count</th>\n",
       "      <td>54</td>\n",
       "      <td>54</td>\n",
       "      <td>54</td>\n",
       "      <td>53</td>\n",
       "      <td>54</td>\n",
       "      <td>54</td>\n",
       "      <td>54</td>\n",
       "      <td>30</td>\n",
       "      <td>54</td>\n",
       "      <td>54</td>\n",
       "      <td>0</td>\n",
       "      <td>0</td>\n",
       "    </tr>\n",
       "    <tr>\n",
       "      <th>unique</th>\n",
       "      <td>54</td>\n",
       "      <td>49</td>\n",
       "      <td>43</td>\n",
       "      <td>16</td>\n",
       "      <td>4</td>\n",
       "      <td>1</td>\n",
       "      <td>2</td>\n",
       "      <td>3</td>\n",
       "      <td>3</td>\n",
       "      <td>54</td>\n",
       "      <td>0</td>\n",
       "      <td>0</td>\n",
       "    </tr>\n",
       "    <tr>\n",
       "      <th>top</td>\n",
       "      <td>3972008508</td>\n",
       "      <td>Data Analyst</td>\n",
       "      <td>Mastercard, Inc.</td>\n",
       "      <td>warszawa</td>\n",
       "      <td>2024-07-11</td>\n",
       "      <td>2024-07-11</td>\n",
       "      <td>False</td>\n",
       "      <td>senior</td>\n",
       "      <td>indeed</td>\n",
       "      <td>Company DescriptionMobica | Be Extraordinary_M...</td>\n",
       "      <td>NaN</td>\n",
       "      <td>NaN</td>\n",
       "    </tr>\n",
       "    <tr>\n",
       "      <th>freq</td>\n",
       "      <td>1</td>\n",
       "      <td>3</td>\n",
       "      <td>3</td>\n",
       "      <td>16</td>\n",
       "      <td>31</td>\n",
       "      <td>54</td>\n",
       "      <td>43</td>\n",
       "      <td>13</td>\n",
       "      <td>29</td>\n",
       "      <td>1</td>\n",
       "      <td>NaN</td>\n",
       "      <td>NaN</td>\n",
       "    </tr>\n",
       "  </tbody>\n",
       "</table>\n",
       "</div>"
      ],
      "text/plain": [
       "            job_id     job_title      company_name  location published_date  \\\n",
       "count           54            54                54        53             54   \n",
       "unique          54            49                43        16              4   \n",
       "top     3972008508  Data Analyst  Mastercard, Inc.  warszawa     2024-07-11   \n",
       "freq             1             3                 3        16             31   \n",
       "\n",
       "       scraped_date is_polish_required position  source  \\\n",
       "count            54                 54       30      54   \n",
       "unique            1                  2        3       3   \n",
       "top      2024-07-11              False   senior  indeed   \n",
       "freq             54                 43       13      29   \n",
       "\n",
       "                                              description is_degree_required  \\\n",
       "count                                                  54                  0   \n",
       "unique                                                 54                  0   \n",
       "top     Company DescriptionMobica | Be Extraordinary_M...                NaN   \n",
       "freq                                                    1                NaN   \n",
       "\n",
       "       technologies_found  \n",
       "count                   0  \n",
       "unique                  0  \n",
       "top                   NaN  \n",
       "freq                  NaN  "
      ]
     },
     "execution_count": 61,
     "metadata": {},
     "output_type": "execute_result"
    }
   ],
   "source": [
    "df.describe()"
   ]
  },
  {
   "cell_type": "markdown",
   "metadata": {},
   "source": [
    "## Analyzing descriptions"
   ]
  },
  {
   "cell_type": "code",
   "execution_count": 62,
   "metadata": {},
   "outputs": [],
   "source": [
    "da.analyze_descriptions(df)"
   ]
  },
  {
   "cell_type": "code",
   "execution_count": 63,
   "metadata": {},
   "outputs": [],
   "source": [
    "df['position'] = df.position.str.lower()"
   ]
  },
  {
   "cell_type": "markdown",
   "metadata": {},
   "source": [
    "## Reordering DataFrame fields to match the database schema\n",
    "It's important to reorder fields in the DataFrame to match the database schema before uploading the DataFrame."
   ]
  },
  {
   "cell_type": "code",
   "execution_count": 64,
   "metadata": {},
   "outputs": [],
   "source": [
    "conn, cur = db.connect_to_db()"
   ]
  },
  {
   "cell_type": "code",
   "execution_count": 65,
   "metadata": {},
   "outputs": [],
   "source": [
    "db_headers = db.get_headers(conn,cur)"
   ]
  },
  {
   "cell_type": "code",
   "execution_count": 66,
   "metadata": {},
   "outputs": [],
   "source": [
    "df = df[db_headers]"
   ]
  },
  {
   "cell_type": "markdown",
   "metadata": {},
   "source": [
    "## Loading database connection parameters"
   ]
  },
  {
   "cell_type": "code",
   "execution_count": 79,
   "metadata": {},
   "outputs": [
    {
     "data": {
      "text/plain": [
       "{'dbname': 'jobs',\n",
       " 'user': 'postgres',\n",
       " 'password': 'admin',\n",
       " 'host': 'localhost',\n",
       " 'port': '5432'}"
      ]
     },
     "execution_count": 79,
     "metadata": {},
     "output_type": "execute_result"
    }
   ],
   "source": [
    "conn_params =  db.conn_params"
   ]
  },
  {
   "cell_type": "code",
   "execution_count": null,
   "metadata": {},
   "outputs": [],
   "source": [
    "conn_params"
   ]
  },
  {
   "cell_type": "code",
   "execution_count": 80,
   "metadata": {},
   "outputs": [],
   "source": [
    "engine = create_engine('postgresql+psycopg2://{user}:{password}@{host}:{port}/{dbname}'.format(**conn_params))"
   ]
  },
  {
   "cell_type": "code",
   "execution_count": 69,
   "metadata": {},
   "outputs": [],
   "source": [
    "df.replace(\"True\", True, inplace=True)\n",
    "df.replace(\"False\", False, inplace=True)\n",
    "df.replace('None', None, inplace=True)"
   ]
  },
  {
   "cell_type": "code",
   "execution_count": 70,
   "metadata": {},
   "outputs": [
    {
     "data": {
      "text/plain": [
       "54"
      ]
     },
     "execution_count": 70,
     "metadata": {},
     "output_type": "execute_result"
    }
   ],
   "source": [
    "df.to_sql('jobs_info', engine, if_exists='append', index=False)"
   ]
  },
  {
   "cell_type": "markdown",
   "metadata": {},
   "source": [
    "## Deleting the uncleaned jobs CSV file\n",
    "Once the data is loaded into the database, the uncleaned CSV file is deleted."
   ]
  },
  {
   "cell_type": "code",
   "execution_count": 73,
   "metadata": {},
   "outputs": [
    {
     "name": "stdout",
     "output_type": "stream",
     "text": [
      "The file c:\\Users\\ivanb\\OneDrive\\Рабочий стол\\scraping_structure\\data\\uncleaned_jobs.csv has been deleted successfully.\n"
     ]
    }
   ],
   "source": [
    "pandas_csv.delete_file(prev_dir + \"data\\\\uncleaned_jobs.csv\")"
   ]
  }
 ],
 "metadata": {
  "kernelspec": {
   "display_name": "Python 3",
   "language": "python",
   "name": "python3"
  },
  "language_info": {
   "codemirror_mode": {
    "name": "ipython",
    "version": 3
   },
   "file_extension": ".py",
   "mimetype": "text/x-python",
   "name": "python",
   "nbconvert_exporter": "python",
   "pygments_lexer": "ipython3",
   "version": "3.11.4"
  }
 },
 "nbformat": 4,
 "nbformat_minor": 2
}
