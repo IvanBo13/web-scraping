{
 "cells": [
  {
   "cell_type": "markdown",
   "metadata": {},
   "source": [
    "# Data Transormation and Loading"
   ]
  },
  {
   "cell_type": "markdown",
   "metadata": {},
   "source": [
    "##### Importing necessary libraries\n",
    "- `pandas_csv`: Custom module for CSV operations\n",
    "- `pandas`: Data manipulation library\n",
    "- `description_analysis`: Custom module for analyzing job descriptions\n",
    "- `job_database`: Custom module for database operations\n",
    "- `create_engine` from `sqlalchemy`: To create a connection to the PostgreSQL database\n",
    "- `os`: For operating system related tasks\n",
    "- `nan` from `numpy`: Represents empty or `None` value"
   ]
  },
  {
   "cell_type": "code",
   "execution_count": 5,
   "metadata": {},
   "outputs": [],
   "source": [
    "import pandas_csv\n",
    "import pandas as pd\n",
    "import description_analysis as da\n",
    "import job_database as db\n",
    "from sqlalchemy import create_engine\n",
    "import os\n",
    "from numpy import nan"
   ]
  },
  {
   "cell_type": "markdown",
   "metadata": {},
   "source": [
    "##### Getting the previous directory"
   ]
  },
  {
   "cell_type": "code",
   "execution_count": 6,
   "metadata": {},
   "outputs": [],
   "source": [
    "cur_dir = os.getcwd()\n",
    "prev_dir = cur_dir[:cur_dir.rfind(\"\\\\\")+1]"
   ]
  },
  {
   "cell_type": "markdown",
   "metadata": {},
   "source": [
    "##### Loading uncleaned jobs from CSV file in `data` directory"
   ]
  },
  {
   "cell_type": "code",
   "execution_count": 7,
   "metadata": {},
   "outputs": [],
   "source": [
    "df = pandas_csv.load_from_csv(prev_dir + \"data\\\\uncleaned_jobs.csv\")"
   ]
  },
  {
   "cell_type": "markdown",
   "metadata": {},
   "source": [
    "### Describing the dataset\n",
    "Display basic statistics and information about the dataset"
   ]
  },
  {
   "cell_type": "code",
   "execution_count": 8,
   "metadata": {},
   "outputs": [
    {
     "data": {
      "text/html": [
       "<div>\n",
       "<style scoped>\n",
       "    .dataframe tbody tr th:only-of-type {\n",
       "        vertical-align: middle;\n",
       "    }\n",
       "\n",
       "    .dataframe tbody tr th {\n",
       "        vertical-align: top;\n",
       "    }\n",
       "\n",
       "    .dataframe thead th {\n",
       "        text-align: right;\n",
       "    }\n",
       "</style>\n",
       "<table border=\"1\" class=\"dataframe\">\n",
       "  <thead>\n",
       "    <tr style=\"text-align: right;\">\n",
       "      <th></th>\n",
       "      <th>job_id</th>\n",
       "    </tr>\n",
       "  </thead>\n",
       "  <tbody>\n",
       "    <tr>\n",
       "      <th>count</th>\n",
       "      <td>1.940000e+02</td>\n",
       "    </tr>\n",
       "    <tr>\n",
       "      <th>mean</th>\n",
       "      <td>3.379129e+09</td>\n",
       "    </tr>\n",
       "    <tr>\n",
       "      <th>std</th>\n",
       "      <td>1.191159e+09</td>\n",
       "    </tr>\n",
       "    <tr>\n",
       "      <th>min</th>\n",
       "      <td>1.075292e+07</td>\n",
       "    </tr>\n",
       "    <tr>\n",
       "      <th>25%</th>\n",
       "      <td>3.944984e+09</td>\n",
       "    </tr>\n",
       "    <tr>\n",
       "      <th>50%</th>\n",
       "      <td>3.971325e+09</td>\n",
       "    </tr>\n",
       "    <tr>\n",
       "      <th>75%</th>\n",
       "      <td>3.974958e+09</td>\n",
       "    </tr>\n",
       "    <tr>\n",
       "      <th>max</th>\n",
       "      <td>3.977584e+09</td>\n",
       "    </tr>\n",
       "  </tbody>\n",
       "</table>\n",
       "</div>"
      ],
      "text/plain": [
       "             job_id\n",
       "count  1.940000e+02\n",
       "mean   3.379129e+09\n",
       "std    1.191159e+09\n",
       "min    1.075292e+07\n",
       "25%    3.944984e+09\n",
       "50%    3.971325e+09\n",
       "75%    3.974958e+09\n",
       "max    3.977584e+09"
      ]
     },
     "execution_count": 8,
     "metadata": {},
     "output_type": "execute_result"
    }
   ],
   "source": [
    "df.describe()"
   ]
  },
  {
   "cell_type": "code",
   "execution_count": 9,
   "metadata": {},
   "outputs": [
    {
     "name": "stdout",
     "output_type": "stream",
     "text": [
      "<class 'pandas.core.frame.DataFrame'>\n",
      "RangeIndex: 194 entries, 0 to 193\n",
      "Data columns (total 10 columns):\n",
      " #   Column              Non-Null Count  Dtype \n",
      "---  ------              --------------  ----- \n",
      " 0   job_id              194 non-null    int64 \n",
      " 1   job_title           194 non-null    object\n",
      " 2   company_name        194 non-null    object\n",
      " 3   location            194 non-null    object\n",
      " 4   published_date      194 non-null    object\n",
      " 5   scraped_date        194 non-null    object\n",
      " 6   is_polish_required  194 non-null    bool  \n",
      " 7   position            95 non-null     object\n",
      " 8   source              194 non-null    object\n",
      " 9   description         194 non-null    object\n",
      "dtypes: bool(1), int64(1), object(8)\n",
      "memory usage: 14.0+ KB\n"
     ]
    }
   ],
   "source": [
    "df.info()"
   ]
  },
  {
   "cell_type": "code",
   "execution_count": 10,
   "metadata": {},
   "outputs": [
    {
     "data": {
      "text/html": [
       "<div>\n",
       "<style scoped>\n",
       "    .dataframe tbody tr th:only-of-type {\n",
       "        vertical-align: middle;\n",
       "    }\n",
       "\n",
       "    .dataframe tbody tr th {\n",
       "        vertical-align: top;\n",
       "    }\n",
       "\n",
       "    .dataframe thead th {\n",
       "        text-align: right;\n",
       "    }\n",
       "</style>\n",
       "<table border=\"1\" class=\"dataframe\">\n",
       "  <thead>\n",
       "    <tr style=\"text-align: right;\">\n",
       "      <th></th>\n",
       "      <th>job_id</th>\n",
       "      <th>job_title</th>\n",
       "      <th>company_name</th>\n",
       "      <th>location</th>\n",
       "      <th>published_date</th>\n",
       "      <th>scraped_date</th>\n",
       "      <th>is_polish_required</th>\n",
       "      <th>position</th>\n",
       "      <th>source</th>\n",
       "      <th>description</th>\n",
       "    </tr>\n",
       "  </thead>\n",
       "  <tbody>\n",
       "    <tr>\n",
       "      <th>0</th>\n",
       "      <td>3974953939</td>\n",
       "      <td>Data Analyst</td>\n",
       "      <td>TMF Group</td>\n",
       "      <td>Mazowieckie</td>\n",
       "      <td>2024-07-12</td>\n",
       "      <td>2024-07-16</td>\n",
       "      <td>False</td>\n",
       "      <td>NaN</td>\n",
       "      <td>linkedin</td>\n",
       "      <td>We never ask for payment as part of our select...</td>\n",
       "    </tr>\n",
       "    <tr>\n",
       "      <th>1</th>\n",
       "      <td>1003470219</td>\n",
       "      <td>Senior SAP Business Analyst - S/4HANA</td>\n",
       "      <td>ZF GroupAbout the company</td>\n",
       "      <td>Company location\\nCzęstochowa\\nCzęstochowa, Si...</td>\n",
       "      <td>2024-7-15</td>\n",
       "      <td>2024-07-16</td>\n",
       "      <td>False</td>\n",
       "      <td>middle</td>\n",
       "      <td>pracuj</td>\n",
       "      <td>Master’s Degree in IT, Economy or other relate...</td>\n",
       "    </tr>\n",
       "    <tr>\n",
       "      <th>2</th>\n",
       "      <td>1003474956</td>\n",
       "      <td>Analityk biznesowy</td>\n",
       "      <td>WELLCLINIC sp. z o.o.O firmie</td>\n",
       "      <td>Kolejowa 45, Wola, Warszawa\\nWarszawa, mazowie...</td>\n",
       "      <td>2024-7-16</td>\n",
       "      <td>2024-07-16</td>\n",
       "      <td>True</td>\n",
       "      <td>middle</td>\n",
       "      <td>pracuj</td>\n",
       "      <td>Ciekawość, by dobrze zrozumieć kontekst biznes...</td>\n",
       "    </tr>\n",
       "    <tr>\n",
       "      <th>3</th>\n",
       "      <td>1003474950</td>\n",
       "      <td>Billing Business Analyst (f/m)</td>\n",
       "      <td>Integer Group Services Sp. z o.oO firmie</td>\n",
       "      <td>Czerniakowska 87A, Mokotów, Warszawa\\nWarszawa...</td>\n",
       "      <td>2024-7-16</td>\n",
       "      <td>2024-07-16</td>\n",
       "      <td>False</td>\n",
       "      <td>middle</td>\n",
       "      <td>pracuj</td>\n",
       "      <td>doświadczenie w obsłudze billingu/rozliczeń or...</td>\n",
       "    </tr>\n",
       "    <tr>\n",
       "      <th>4</th>\n",
       "      <td>1003474946</td>\n",
       "      <td>Data Analyst</td>\n",
       "      <td>Randstad Polska Sp. z o.o.About the company</td>\n",
       "      <td>Kraków\\nKraków, Lesser Poland</td>\n",
       "      <td>2024-7-16</td>\n",
       "      <td>2024-07-16</td>\n",
       "      <td>False</td>\n",
       "      <td>junior</td>\n",
       "      <td>pracuj</td>\n",
       "      <td>fluent English;\\n2+ years of experience in a b...</td>\n",
       "    </tr>\n",
       "  </tbody>\n",
       "</table>\n",
       "</div>"
      ],
      "text/plain": [
       "       job_id                              job_title  \\\n",
       "0  3974953939                           Data Analyst   \n",
       "1  1003470219  Senior SAP Business Analyst - S/4HANA   \n",
       "2  1003474956                     Analityk biznesowy   \n",
       "3  1003474950         Billing Business Analyst (f/m)   \n",
       "4  1003474946                           Data Analyst   \n",
       "\n",
       "                                  company_name  \\\n",
       "0                                    TMF Group   \n",
       "1                    ZF GroupAbout the company   \n",
       "2                WELLCLINIC sp. z o.o.O firmie   \n",
       "3     Integer Group Services Sp. z o.oO firmie   \n",
       "4  Randstad Polska Sp. z o.o.About the company   \n",
       "\n",
       "                                            location published_date  \\\n",
       "0                                        Mazowieckie     2024-07-12   \n",
       "1  Company location\\nCzęstochowa\\nCzęstochowa, Si...      2024-7-15   \n",
       "2  Kolejowa 45, Wola, Warszawa\\nWarszawa, mazowie...      2024-7-16   \n",
       "3  Czerniakowska 87A, Mokotów, Warszawa\\nWarszawa...      2024-7-16   \n",
       "4                      Kraków\\nKraków, Lesser Poland      2024-7-16   \n",
       "\n",
       "  scraped_date  is_polish_required position    source  \\\n",
       "0   2024-07-16               False      NaN  linkedin   \n",
       "1   2024-07-16               False   middle    pracuj   \n",
       "2   2024-07-16                True   middle    pracuj   \n",
       "3   2024-07-16               False   middle    pracuj   \n",
       "4   2024-07-16               False   junior    pracuj   \n",
       "\n",
       "                                         description  \n",
       "0  We never ask for payment as part of our select...  \n",
       "1  Master’s Degree in IT, Economy or other relate...  \n",
       "2  Ciekawość, by dobrze zrozumieć kontekst biznes...  \n",
       "3  doświadczenie w obsłudze billingu/rozliczeń or...  \n",
       "4  fluent English;\\n2+ years of experience in a b...  "
      ]
     },
     "execution_count": 10,
     "metadata": {},
     "output_type": "execute_result"
    }
   ],
   "source": [
    "df.head()"
   ]
  },
  {
   "cell_type": "markdown",
   "metadata": {},
   "source": [
    "#### Removing duplicate job entries"
   ]
  },
  {
   "cell_type": "code",
   "execution_count": 11,
   "metadata": {},
   "outputs": [],
   "source": [
    "df.drop_duplicates(subset='job_id', inplace=True, ignore_index=True)"
   ]
  },
  {
   "cell_type": "markdown",
   "metadata": {},
   "source": [
    "#### Creating separate DataFrames"
   ]
  },
  {
   "cell_type": "markdown",
   "metadata": {},
   "source": [
    "<div>Sites can change their html code or page's structure, it can lead to scraping irrelevant data</div>\n",
    "<div>so it's important to examine data from each source separately</div>"
   ]
  },
  {
   "cell_type": "code",
   "execution_count": 12,
   "metadata": {},
   "outputs": [],
   "source": [
    "linkedin_df = df[df[\"source\"] == \"linkedin\"]\n",
    "indeed_df = df[df[\"source\"] == \"indeed\"]\n",
    "pracuj_df = df[df[\"source\"] == \"pracuj\"]"
   ]
  },
  {
   "cell_type": "markdown",
   "metadata": {},
   "source": [
    "### Checking values for every column to understand format of their values and develop appropriate standartization technique"
   ]
  },
  {
   "cell_type": "code",
   "execution_count": 14,
   "metadata": {},
   "outputs": [
    {
     "data": {
      "text/html": [
       "<div>\n",
       "<style scoped>\n",
       "    .dataframe tbody tr th:only-of-type {\n",
       "        vertical-align: middle;\n",
       "    }\n",
       "\n",
       "    .dataframe tbody tr th {\n",
       "        vertical-align: top;\n",
       "    }\n",
       "\n",
       "    .dataframe thead th {\n",
       "        text-align: right;\n",
       "    }\n",
       "</style>\n",
       "<table border=\"1\" class=\"dataframe\">\n",
       "  <thead>\n",
       "    <tr style=\"text-align: right;\">\n",
       "      <th></th>\n",
       "      <th>job_id</th>\n",
       "      <th>job_title</th>\n",
       "      <th>company_name</th>\n",
       "      <th>location</th>\n",
       "      <th>published_date</th>\n",
       "      <th>scraped_date</th>\n",
       "      <th>is_polish_required</th>\n",
       "      <th>position</th>\n",
       "      <th>source</th>\n",
       "      <th>description</th>\n",
       "    </tr>\n",
       "  </thead>\n",
       "  <tbody>\n",
       "    <tr>\n",
       "      <th>0</th>\n",
       "      <td>3974953939</td>\n",
       "      <td>Data Analyst</td>\n",
       "      <td>TMF Group</td>\n",
       "      <td>Mazowieckie</td>\n",
       "      <td>2024-07-12</td>\n",
       "      <td>2024-07-16</td>\n",
       "      <td>False</td>\n",
       "      <td>NaN</td>\n",
       "      <td>linkedin</td>\n",
       "      <td>We never ask for payment as part of our select...</td>\n",
       "    </tr>\n",
       "    <tr>\n",
       "      <th>39</th>\n",
       "      <td>3973344277</td>\n",
       "      <td>Senior Data Analyst</td>\n",
       "      <td>Worky</td>\n",
       "      <td>Poland</td>\n",
       "      <td>2024-07-15</td>\n",
       "      <td>2024-07-16</td>\n",
       "      <td>False</td>\n",
       "      <td>senior</td>\n",
       "      <td>linkedin</td>\n",
       "      <td>Data AnalystGeneral Description:We are seeking...</td>\n",
       "    </tr>\n",
       "    <tr>\n",
       "      <th>40</th>\n",
       "      <td>3970447865</td>\n",
       "      <td>Data Analyst - Credit</td>\n",
       "      <td>Revolut</td>\n",
       "      <td>Poland</td>\n",
       "      <td>2024-07-11</td>\n",
       "      <td>2024-07-16</td>\n",
       "      <td>False</td>\n",
       "      <td>NaN</td>\n",
       "      <td>linkedin</td>\n",
       "      <td>About RevolutPeople deserve more from their mo...</td>\n",
       "    </tr>\n",
       "    <tr>\n",
       "      <th>41</th>\n",
       "      <td>3976908987</td>\n",
       "      <td>Senior Data Analyst</td>\n",
       "      <td>Risk</td>\n",
       "      <td>Mazowieckie</td>\n",
       "      <td>2024-07-15</td>\n",
       "      <td>2024-07-16</td>\n",
       "      <td>False</td>\n",
       "      <td>senior</td>\n",
       "      <td>linkedin</td>\n",
       "      <td>Company DescriptionAt RISK, we are the maveric...</td>\n",
       "    </tr>\n",
       "    <tr>\n",
       "      <th>42</th>\n",
       "      <td>3970671665</td>\n",
       "      <td>Data Analyst &amp; BI Specialist</td>\n",
       "      <td>Billennium</td>\n",
       "      <td>Poland</td>\n",
       "      <td>2024-07-10</td>\n",
       "      <td>2024-07-16</td>\n",
       "      <td>False</td>\n",
       "      <td>NaN</td>\n",
       "      <td>linkedin</td>\n",
       "      <td>We are looking for a skilled Data Analyst &amp; BI...</td>\n",
       "    </tr>\n",
       "  </tbody>\n",
       "</table>\n",
       "</div>"
      ],
      "text/plain": [
       "        job_id                     job_title company_name     location  \\\n",
       "0   3974953939                  Data Analyst    TMF Group  Mazowieckie   \n",
       "39  3973344277           Senior Data Analyst        Worky       Poland   \n",
       "40  3970447865         Data Analyst - Credit      Revolut       Poland   \n",
       "41  3976908987           Senior Data Analyst         Risk  Mazowieckie   \n",
       "42  3970671665  Data Analyst & BI Specialist   Billennium       Poland   \n",
       "\n",
       "   published_date scraped_date  is_polish_required position    source  \\\n",
       "0      2024-07-12   2024-07-16               False      NaN  linkedin   \n",
       "39     2024-07-15   2024-07-16               False   senior  linkedin   \n",
       "40     2024-07-11   2024-07-16               False      NaN  linkedin   \n",
       "41     2024-07-15   2024-07-16               False   senior  linkedin   \n",
       "42     2024-07-10   2024-07-16               False      NaN  linkedin   \n",
       "\n",
       "                                          description  \n",
       "0   We never ask for payment as part of our select...  \n",
       "39  Data AnalystGeneral Description:We are seeking...  \n",
       "40  About RevolutPeople deserve more from their mo...  \n",
       "41  Company DescriptionAt RISK, we are the maveric...  \n",
       "42  We are looking for a skilled Data Analyst & BI...  "
      ]
     },
     "execution_count": 14,
     "metadata": {},
     "output_type": "execute_result"
    }
   ],
   "source": [
    "linkedin_df.head()"
   ]
  },
  {
   "cell_type": "markdown",
   "metadata": {},
   "source": [
    "Looks as expected"
   ]
  },
  {
   "cell_type": "code",
   "execution_count": 15,
   "metadata": {},
   "outputs": [
    {
     "data": {
      "text/plain": [
       "array(['Mazowieckie', 'Poland', 'Dolnośląskie', 'Małopolskie',\n",
       "       'Gorzów Wielkopolski Metropolitan Area',\n",
       "       'Warsaw Metropolitan Area', 'Poznan Metropolitan Area',\n",
       "       'Wielkopolskie', 'Pomorskie', 'Warmińsko-mazurskie',\n",
       "       'Cracow Metropolitan Area', 'Śląskie', 'Podkarpackie',\n",
       "       'Wroclaw Metropolitan Area', 'Łódzkie',\n",
       "       'Zielona Gora Metropolitan Area', 'Zachodniopomorskie'],\n",
       "      dtype=object)"
      ]
     },
     "execution_count": 15,
     "metadata": {},
     "output_type": "execute_result"
    }
   ],
   "source": [
    "linkedin_df.location.unique()"
   ]
  },
  {
   "cell_type": "markdown",
   "metadata": {},
   "source": [
    "converting location field to lowercase"
   ]
  },
  {
   "cell_type": "code",
   "execution_count": 16,
   "metadata": {},
   "outputs": [],
   "source": [
    "df.location = df.location.str.lower()"
   ]
  },
  {
   "cell_type": "markdown",
   "metadata": {},
   "source": [
    "Checking unique location values in the entire dataset"
   ]
  },
  {
   "cell_type": "code",
   "execution_count": 17,
   "metadata": {},
   "outputs": [
    {
     "data": {
      "text/plain": [
       "array(['mazowieckie',\n",
       "       'company location\\nczęstochowa\\nczęstochowa, silesian',\n",
       "       'kolejowa 45, wola, warszawa\\nwarszawa, mazowieckie',\n",
       "       'czerniakowska 87a, mokotów, warszawa\\nwarszawa, mazowieckie',\n",
       "       'kraków\\nkraków, lesser poland', 'gdańsk\\ngdańsk, pomorskie',\n",
       "       'warszawa\\nwarszawa, masovian', 'wrocław\\nwrocław, dolnośląskie',\n",
       "       'połczyńska 31a, bemowo, warszawa\\nwarszawa, mazowieckie',\n",
       "       'armii krajowej 28, bronowice, kraków\\nkraków, małopolskie',\n",
       "       'inowrocław\\ninowrocław, kujawsko-pomorskie',\n",
       "       'warszawa\\nwarszawa, mazowieckie',\n",
       "       'poznań\\npoznań, greater poland',\n",
       "       'aleja jana chrystiana szucha 19, śródmieście, warszawa\\nwarszawa, masovian',\n",
       "       'senatorska 16, śródmieście, warszawa\\nwarszawa, mazowieckie',\n",
       "       'senatorska 16, śródmieście, warszawa\\nwarszawa, masovian',\n",
       "       'nałęczowska 16, lublin\\nlublin, lubelskie',\n",
       "       'poznań\\npoznań, wielkopolskie',\n",
       "       'puszkarska 7l, podgórze duchackie, kraków\\nkraków, lesser poland',\n",
       "       'gliwice\\ngliwice, śląskie',\n",
       "       'company location\\npuławska 2, mokotów, warszawa\\nwarszawa, masovian',\n",
       "       'lubicz 23a, grzegórzki, kraków\\nkraków, lesser poland',\n",
       "       'konrada wallenroda 4c, lublin\\nlublin, lubelskie',\n",
       "       'piękna 46, śródmieście, warszawa\\nwarszawa, mazowieckie',\n",
       "       'grzybowska 81, wola, warszawa\\nwarszawa, mazowieckie',\n",
       "       'kapelanka 42a, dębniki, kraków\\nkraków, lesser poland',\n",
       "       'company location\\nromania\\nabroad',\n",
       "       'encyklopedyczna 2a, bielany, warszawa\\nwarszawa, mazowieckie',\n",
       "       'szturmowa 2, mokotów, warszawa\\nwarszawa, mazowieckie',\n",
       "       'chmielna 73, wola, warszawa\\nwarszawa, mazowieckie',\n",
       "       'traktorowa 141/143, bałuty, łódź\\nłódź, łódzkie', 'poland',\n",
       "       'dolnośląskie', 'małopolskie',\n",
       "       'gorzów wielkopolski metropolitan area',\n",
       "       'warsaw metropolitan area', 'poznan metropolitan area',\n",
       "       'wielkopolskie', 'pomorskie', 'warmińsko-mazurskie',\n",
       "       'cracow metropolitan area', 'śląskie', 'podkarpackie',\n",
       "       'wroclaw metropolitan area', 'łódzkie',\n",
       "       'zielona gora metropolitan area', 'zachodniopomorskie'],\n",
       "      dtype=object)"
      ]
     },
     "execution_count": 17,
     "metadata": {},
     "output_type": "execute_result"
    }
   ],
   "source": [
    "df.location.unique()"
   ]
  },
  {
   "cell_type": "markdown",
   "metadata": {},
   "source": [
    "## Standartizing location field\n",
    "Identifying and correcting location values based on predefined rules"
   ]
  },
  {
   "cell_type": "code",
   "execution_count": 18,
   "metadata": {},
   "outputs": [],
   "source": [
    "voivodships = {\n",
    "    \"dolnośląskie\": [\"wrocław\", \"wroclaw\", \"lower silesian\", \"lower silesia\"],\n",
    "    \"kujawskopomorskie\": [\"bydgoszcz\", \"bydgoszcz\", \"cuyavian-pomeranian\"],\n",
    "    \"lubelskie\": [\"lublin\", \"lublin\", \"lublin\"],\n",
    "    \"lubuskie\": [\"zielona góra\", \"zielona gora\", \"lubusz\"],\n",
    "    \"łódzkie\": [\"łódź\", \"lodz\", \"łódź\"],\n",
    "    \"małopolskie\": [\"kraków\", \"krakow\", \"cracow\", \"lesser poland\"],\n",
    "    \"mazowieckie\": [\"warszawa\", \"warsaw\", \"masovian\"],\n",
    "    \"opolskie\": [\"opole\"],\n",
    "    \"podkarpackie\": [\"rzeszów\", \"rzeszow\", \"subcarpathian\"],\n",
    "    \"podlaskie\": [\"białystok\", \"bialystok\"],\n",
    "    \"pomorskie\": [\"gdańsk\", \"gdansk\", \"pomeranian\"],\n",
    "    \"śląskie\": [\"katowice\", \"katowice\", \"silesian\", \"silesia\"],\n",
    "    \"świętokrzyskie\": [\"kielce\", \"kielce\", \"świętokrzyskie\"],\n",
    "    \"warmińskomazurskie\": [\"olsztyn\", \"olsztyn\", \"warmian-masurian\"],\n",
    "    \"wielkopolskie\": [\"poznań\", \"poznan\", \"greater poland\"],\n",
    "    \"zachodniopomorskie\": [\"szczecin\", \"szczecin\", \"west pomeranian\"]\n",
    "}\n"
   ]
  },
  {
   "cell_type": "code",
   "execution_count": 19,
   "metadata": {},
   "outputs": [],
   "source": [
    "for i in df.index:\n",
    "    location = df.loc[i, 'location']\n",
    "    \n",
    "    if not location or type(location) != str: # if location is missing, skip it\n",
    "        continue\n",
    "\n",
    "    if 'zdalnie' in location or 'hybrydowo' in location or 'remote' in location:\n",
    "        df.loc[i, 'location'] = 'remote'\n",
    "        continue\n",
    "    # location is splitted by whitespace characters\n",
    "    # and characters \", \\n\\t;.\" are are removed from each receieved sub string \n",
    "    splitted_loc = [s.strip(\", \\n\\t;.\") for s in location.split()]\n",
    "    # if there are only two words in location, and first one starts with digit,\n",
    "    # then location is written in format \"<postal-code> <city/voivodship>\"\n",
    "    # hence the second word will be retrieved\n",
    "    if len(splitted_loc) == 2 and splitted_loc[0][0].isdigit(): \n",
    "        df.loc[i, 'location'] = splitted_loc[1]\n",
    "        continue\n",
    "    \n",
    "    nested_loop_breaked = False # flag to break outer loop when nested is breaked\n",
    "\n",
    "    for voivodship in voivodships:\n",
    "        if nested_loop_breaked:\n",
    "            break\n",
    "        if voivodship in location:\n",
    "            df.loc[i, 'location'] = voivodship\n",
    "            break\n",
    "        for capital in voivodships[voivodship]:\n",
    "            if capital in location:\n",
    "                df.loc[i, 'location'] = voivodship\n",
    "                nested_loop_breaked = True\n",
    "                break"
   ]
  },
  {
   "cell_type": "code",
   "execution_count": 20,
   "metadata": {},
   "outputs": [
    {
     "data": {
      "text/plain": [
       "location\n",
       "mazowieckie                              85\n",
       "małopolskie                              27\n",
       "poland                                   23\n",
       "dolnośląskie                             17\n",
       "pomorskie                                 9\n",
       "opolskie                                  8\n",
       "łódzkie                                   5\n",
       "warmińsko-mazurskie                       5\n",
       "śląskie                                   4\n",
       "wielkopolskie                             4\n",
       "lubelskie                                 2\n",
       "company location\\nromania\\nabroad         1\n",
       "gorzów wielkopolski metropolitan area     1\n",
       "podkarpackie                              1\n",
       "lubuskie                                  1\n",
       "Name: count, dtype: int64"
      ]
     },
     "execution_count": 20,
     "metadata": {},
     "output_type": "execute_result"
    }
   ],
   "source": [
    "df.location.value_counts()"
   ]
  },
  {
   "cell_type": "markdown",
   "metadata": {},
   "source": [
    "### Standardizing location field for jobs scraped from Pracuj\n",
    "<div>In general, the location value for jobs scraped from Pracuj looks like this: </div>\n",
    "<div>\"company location\\nsłubicka 18, stare miasto, wrocław\\nwrocław, lower silesia\"</div>\n",
    "<div>we need to retrieve either name of city or voivodship </div>\n",
    "<div>so we split location by \"\\n\" sign, then take the last part of splitted string(which always contains city and voivodship)</div>\n",
    "<div>then this part of the string is splitted again by the \", \" sign to retrieve voivodship</div>"
   ]
  },
  {
   "cell_type": "code",
   "execution_count": 21,
   "metadata": {},
   "outputs": [],
   "source": [
    "pracuj_df = df[df['source']=='pracuj']"
   ]
  },
  {
   "cell_type": "markdown",
   "metadata": {},
   "source": [
    "Creating series, each element of which is list with splitted location by `\\n` sign"
   ]
  },
  {
   "cell_type": "code",
   "execution_count": 22,
   "metadata": {},
   "outputs": [],
   "source": [
    "ser = pracuj_df.location.str.split('\\n')"
   ]
  },
  {
   "cell_type": "markdown",
   "metadata": {},
   "source": [
    "<div><code>formatted_location</code> is created by going through each element of <strong>ser</strong> (which is a <strong>list</strong> object),</div>\n",
    "<div>choosing <strong>last</strong> element of each list (which is a <strong>string</strong>), splitting this string by <code>,</code>,</div>\n",
    "<div> and then selecting <strong>the first</strong> element of the received <strong>list</strong></div>\n"
   ]
  },
  {
   "cell_type": "code",
   "execution_count": 23,
   "metadata": {},
   "outputs": [],
   "source": [
    "formatted_location = pd.Series([s[-1].split(', ')[0] for s in ser], index=pracuj_df.index)"
   ]
  },
  {
   "cell_type": "markdown",
   "metadata": {},
   "source": [
    "Replacing old location values with formatted ones"
   ]
  },
  {
   "cell_type": "code",
   "execution_count": 24,
   "metadata": {},
   "outputs": [],
   "source": [
    "for i in df[df['source']=='pracuj'].index:\n",
    "    df.loc[i, 'location'] = formatted_location[i]"
   ]
  },
  {
   "cell_type": "code",
   "execution_count": 25,
   "metadata": {},
   "outputs": [
    {
     "data": {
      "text/plain": [
       "location\n",
       "mazowieckie                              85\n",
       "małopolskie                              27\n",
       "poland                                   23\n",
       "dolnośląskie                             17\n",
       "pomorskie                                 9\n",
       "opolskie                                  8\n",
       "łódzkie                                   5\n",
       "warmińsko-mazurskie                       5\n",
       "śląskie                                   4\n",
       "wielkopolskie                             4\n",
       "lubelskie                                 2\n",
       "abroad                                    1\n",
       "gorzów wielkopolski metropolitan area     1\n",
       "podkarpackie                              1\n",
       "lubuskie                                  1\n",
       "Name: count, dtype: int64"
      ]
     },
     "execution_count": 25,
     "metadata": {},
     "output_type": "execute_result"
    }
   ],
   "source": [
    "df.location.value_counts()"
   ]
  },
  {
   "cell_type": "markdown",
   "metadata": {},
   "source": [
    "### Company_name checking"
   ]
  },
  {
   "cell_type": "code",
   "execution_count": 26,
   "metadata": {},
   "outputs": [
    {
     "data": {
      "text/plain": [
       "0      TMF Group\n",
       "39         Worky\n",
       "40       Revolut\n",
       "41          Risk\n",
       "42    Billennium\n",
       "Name: company_name, dtype: object"
      ]
     },
     "execution_count": 26,
     "metadata": {},
     "output_type": "execute_result"
    }
   ],
   "source": [
    "linkedin_df.company_name.head()"
   ]
  },
  {
   "cell_type": "code",
   "execution_count": 27,
   "metadata": {},
   "outputs": [
    {
     "data": {
      "text/plain": [
       "Series([], Name: company_name, dtype: object)"
      ]
     },
     "execution_count": 27,
     "metadata": {},
     "output_type": "execute_result"
    }
   ],
   "source": [
    "indeed_df.company_name.head()"
   ]
  },
  {
   "cell_type": "code",
   "execution_count": 28,
   "metadata": {},
   "outputs": [
    {
     "data": {
      "text/plain": [
       "1                      ZF GroupAbout the company\n",
       "2                  WELLCLINIC sp. z o.o.O firmie\n",
       "3       Integer Group Services Sp. z o.oO firmie\n",
       "4    Randstad Polska Sp. z o.o.About the company\n",
       "5                    ER Group Sp. z o.o.O firmie\n",
       "Name: company_name, dtype: object"
      ]
     },
     "execution_count": 28,
     "metadata": {},
     "output_type": "execute_result"
    }
   ],
   "source": [
    "pracuj_df.company_name.head()"
   ]
  },
  {
   "cell_type": "markdown",
   "metadata": {},
   "source": [
    "<div> Each <code>company_name</code> value from <code>pracuj</code> source ends with either \"O firmie\" or \"About the company\" </div>\n",
    "<div> So <code>company_name</code> values will be truncated</div>"
   ]
  },
  {
   "cell_type": "code",
   "execution_count": 29,
   "metadata": {},
   "outputs": [],
   "source": [
    "s1 = \"O firmie\"\n",
    "s2 = \"About the company\"\n",
    "l1 = len(s1)\n",
    "l2 = len(s2)"
   ]
  },
  {
   "cell_type": "code",
   "execution_count": 30,
   "metadata": {},
   "outputs": [],
   "source": [
    "for i in pracuj_df.index:\n",
    "    company_name = pracuj_df.loc[i, \"company_name\"]\n",
    "    if not company_name:\n",
    "        continue\n",
    "    # if company_name contains \"O firme\" substring, then truncate company name by length of \"O firme\" string\n",
    "    if s1 in company_name:\n",
    "        pracuj_df.loc[i, \"company_name\"] = company_name[:-l1]\n",
    "    # if company_name contains \"About the company\" substring, then truncate company name by length of \"About the company\" string\n",
    "    elif s2 in company_name:\n",
    "        pracuj_df.loc[i, \"company_name\"] = company_name[:-l2]\n"
   ]
  },
  {
   "cell_type": "code",
   "execution_count": 31,
   "metadata": {},
   "outputs": [
    {
     "data": {
      "text/plain": [
       "array(['ZF Group', 'WELLCLINIC sp. z o.o.',\n",
       "       'Integer Group Services Sp. z o.o', 'Randstad Polska Sp. z o.o.',\n",
       "       'ER Group Sp. z o.o.', 'Fairfield Consultancy Services Ltd',\n",
       "       'Goldman Recruitment', 'Betacom S.A.',\n",
       "       'BNP Paribas Bank Polska S.A.', 'CALCIO sp. z o.o.', 'Bank Pekao',\n",
       "       'VML Enterprise Solutions',\n",
       "       'Bain Global Business Services Center Sp. z o.o.', 'Citi Handlowy',\n",
       "       'Capgemini Polska', 'DSA Sp. z o.o.', '4IT SOLUTIONS sp. z o.o.',\n",
       "       'FINANTEQ SA', 'Santander Bank Polska', 'Accenture Operations',\n",
       "       'Euroclear', 'Moltton', 'SQUARE ONE RESOURCES sp. z o.o.',\n",
       "       'MERGESOFT', 'Inchcape Motor Polska Sp. z o.o.',\n",
       "       'GPC GLOBAL TECHNOLOGY CENTER', 'Asseco Business Solutions S.A.',\n",
       "       'Stoen Operator Sp. z o.o.', 'Bank Polskiej Spółdzielczości SA',\n",
       "       'HSBC Service Delivery (Polska) Sp. z o.o.', 'Nagarro',\n",
       "       'JellyTech', 'LUX MED Sp. z o.o.', 'Bank Gospodarstwa Krajowego',\n",
       "       'Rossmann SDP'], dtype=object)"
      ]
     },
     "execution_count": 31,
     "metadata": {},
     "output_type": "execute_result"
    }
   ],
   "source": [
    "pracuj_df.company_name.unique()"
   ]
  },
  {
   "cell_type": "markdown",
   "metadata": {},
   "source": [
    "Replacing data in `df` dataframe with standartized data from `pracuj_df`"
   ]
  },
  {
   "cell_type": "code",
   "execution_count": 32,
   "metadata": {},
   "outputs": [],
   "source": [
    "df[df[\"source\"] == \"pracuj\"] = pracuj_df"
   ]
  },
  {
   "cell_type": "markdown",
   "metadata": {},
   "source": [
    "Checking date fields"
   ]
  },
  {
   "cell_type": "code",
   "execution_count": 33,
   "metadata": {},
   "outputs": [
    {
     "data": {
      "text/plain": [
       "array(['2024-07-16'], dtype=object)"
      ]
     },
     "execution_count": 33,
     "metadata": {},
     "output_type": "execute_result"
    }
   ],
   "source": [
    "df.scraped_date.unique()"
   ]
  },
  {
   "cell_type": "code",
   "execution_count": 55,
   "metadata": {},
   "outputs": [
    {
     "data": {
      "text/plain": [
       "published_date\n",
       "2024-07-15    60\n",
       "2024-07-16    29\n",
       "2024-07-10    25\n",
       "2024-07-12    22\n",
       "2024-07-09    21\n",
       "2024-07-13    13\n",
       "2024-07-14    12\n",
       "2024-07-11    11\n",
       "Name: count, dtype: int64"
      ]
     },
     "execution_count": 55,
     "metadata": {},
     "output_type": "execute_result"
    }
   ],
   "source": [
    "df.published_date.value_counts()"
   ]
  },
  {
   "cell_type": "markdown",
   "metadata": {},
   "source": [
    "#### Checking Polish requirement field"
   ]
  },
  {
   "cell_type": "code",
   "execution_count": 56,
   "metadata": {},
   "outputs": [
    {
     "data": {
      "text/plain": [
       "array([False,  True])"
      ]
     },
     "execution_count": 56,
     "metadata": {},
     "output_type": "execute_result"
    }
   ],
   "source": [
    "df.is_polish_required.unique()"
   ]
  },
  {
   "cell_type": "code",
   "execution_count": 57,
   "metadata": {},
   "outputs": [
    {
     "data": {
      "text/plain": [
       "count       193\n",
       "unique        2\n",
       "top       False\n",
       "freq        139\n",
       "Name: is_polish_required, dtype: object"
      ]
     },
     "execution_count": 57,
     "metadata": {},
     "output_type": "execute_result"
    }
   ],
   "source": [
    "df.is_polish_required.describe()"
   ]
  },
  {
   "cell_type": "markdown",
   "metadata": {},
   "source": [
    "#### Checking position field"
   ]
  },
  {
   "cell_type": "code",
   "execution_count": 58,
   "metadata": {},
   "outputs": [],
   "source": [
    "positions = df.position.str.strip().str.lower()"
   ]
  },
  {
   "cell_type": "code",
   "execution_count": 59,
   "metadata": {},
   "outputs": [
    {
     "data": {
      "text/plain": [
       "array([nan, 'middle', 'junior', 'senior', 'intern'], dtype=object)"
      ]
     },
     "execution_count": 59,
     "metadata": {},
     "output_type": "execute_result"
    }
   ],
   "source": [
    "positions.unique()"
   ]
  },
  {
   "cell_type": "markdown",
   "metadata": {},
   "source": [
    "Standartizing position values into 4 groups:\n",
    "<li>intern;</li>\n",
    "<li>junior;</li>\n",
    "<li>middle;</li>\n",
    "<li>senior</li>"
   ]
  },
  {
   "cell_type": "code",
   "execution_count": 60,
   "metadata": {},
   "outputs": [],
   "source": [
    "positions.replace(\"experienced\", \"middle\", inplace=True)\n",
    "positions.replace(\"manager\", \"senior\", inplace=True)\n",
    "positions.replace(\"none\", None, inplace=True)\n",
    "positions.replace(\"entry professional\", \"middle\", inplace=True)\n",
    "positions.replace(\"professional\", \"middle\", inplace=True)\n",
    "positions.replace(\"supervisor\", \"senior\", inplace=True)\n",
    "positions.replace(\"intermediate\", \"middle\", inplace=True)\n",
    "positions.replace(\"expert\", \"senior\", inplace=True)\n",
    "positions.replace(\"entry level\", \"junior\", inplace=True)\n",
    "positions.replace(\"lead\", \"senior\", inplace=True)\n",
    "positions.replace(\"principal\", \"senior\", inplace=True)\n",
    "positions.replace(\"analyst\", \"middle\", inplace=True)\n",
    "positions.replace(\"entry\", \"junior\", inplace=True)\n",
    "positions.replace(\"mid\", \"middle\", inplace=True)\n",
    "positions.replace(\"associate\", \"middle\", inplace=True)"
   ]
  },
  {
   "cell_type": "code",
   "execution_count": 61,
   "metadata": {},
   "outputs": [
    {
     "data": {
      "text/plain": [
       "array([nan, 'middle', 'junior', 'senior', 'intern'], dtype=object)"
      ]
     },
     "execution_count": 61,
     "metadata": {},
     "output_type": "execute_result"
    }
   ],
   "source": [
    "positions.unique()"
   ]
  },
  {
   "cell_type": "markdown",
   "metadata": {},
   "source": [
    "Replacing old `position` values with standartized ones"
   ]
  },
  {
   "cell_type": "code",
   "execution_count": 62,
   "metadata": {},
   "outputs": [],
   "source": [
    "df.position = positions"
   ]
  },
  {
   "cell_type": "markdown",
   "metadata": {},
   "source": [
    "## Creating two empty series that will be populated using ChatGPT\n",
    "Adding `is_degree_required` and `technologies_found` columns to the DataFrame."
   ]
  },
  {
   "cell_type": "code",
   "execution_count": 63,
   "metadata": {},
   "outputs": [],
   "source": [
    "empty_degree_column = pd.Series(dtype=str, name=\"is_degree_required\")\n",
    "empty_tech_coulumn = pd.Series(dtype=str, name=\"technologies_found\")"
   ]
  },
  {
   "cell_type": "code",
   "execution_count": 64,
   "metadata": {},
   "outputs": [],
   "source": [
    "df['is_degree_required'] = empty_degree_column\n",
    "df['technologies_found'] = empty_tech_coulumn"
   ]
  },
  {
   "cell_type": "markdown",
   "metadata": {},
   "source": [
    "### Analyzing descriptions"
   ]
  },
  {
   "cell_type": "code",
   "execution_count": 66,
   "metadata": {},
   "outputs": [],
   "source": [
    "da.analyze_descriptions(df)"
   ]
  },
  {
   "cell_type": "markdown",
   "metadata": {},
   "source": [
    "Transforming all `position` values to lowercase"
   ]
  },
  {
   "cell_type": "code",
   "execution_count": 67,
   "metadata": {},
   "outputs": [],
   "source": [
    "df['position'] = df.position.str.lower()"
   ]
  },
  {
   "cell_type": "markdown",
   "metadata": {},
   "source": [
    "### Creating separate DataFrame for technologies"
   ]
  },
  {
   "cell_type": "code",
   "execution_count": 68,
   "metadata": {},
   "outputs": [],
   "source": [
    "df_tech = df[['job_id', 'technologies_found']]"
   ]
  },
  {
   "cell_type": "markdown",
   "metadata": {},
   "source": [
    "splitting technologes by `,` sign"
   ]
  },
  {
   "cell_type": "code",
   "execution_count": 69,
   "metadata": {},
   "outputs": [],
   "source": [
    "splitted_techologies = df_tech.technologies_found.str.split(', ')"
   ]
  },
  {
   "cell_type": "markdown",
   "metadata": {},
   "source": [
    "each element of `splitted_technologies` Series object is `list` of technologies"
   ]
  },
  {
   "cell_type": "code",
   "execution_count": 70,
   "metadata": {},
   "outputs": [
    {
     "data": {
      "text/plain": [
       "0                                    [Alteryx, SQL]\n",
       "1                              [ABAP, EDI, S/4Hana]\n",
       "2    [Excel, Google Sheets, Power BI, SQL, Tableau]\n",
       "3                                            [None]\n",
       "4                            [Excel, Power BI, SQL]\n",
       "Name: technologies_found, dtype: object"
      ]
     },
     "execution_count": 70,
     "metadata": {},
     "output_type": "execute_result"
    }
   ],
   "source": [
    "splitted_techologies.head()"
   ]
  },
  {
   "cell_type": "code",
   "execution_count": 71,
   "metadata": {},
   "outputs": [],
   "source": [
    "rows = []"
   ]
  },
  {
   "cell_type": "markdown",
   "metadata": {},
   "source": [
    "Unpivoting"
   ]
  },
  {
   "cell_type": "code",
   "execution_count": 72,
   "metadata": {},
   "outputs": [],
   "source": [
    "# goes through each splitted_techologies element\n",
    "# and unpack each list into multiple rows in data frame\n",
    "# i.e. from \"wide\" format 123214214, [tech1, tech2, tech3]\n",
    "# to \"vertical\" format: \n",
    "# 123214214, tech1\n",
    "# 123214214, tech2\n",
    "# 123214214, tech3\n",
    "for i in splitted_techologies.index:\n",
    "    if not splitted_techologies[i]:\n",
    "        rows.append((df.loc[i, 'job_id'], None))\n",
    "        continue\n",
    "    for technology in splitted_techologies[i]:\n",
    "        rows.append((df.loc[i, 'job_id'], technology))"
   ]
  },
  {
   "cell_type": "code",
   "execution_count": 73,
   "metadata": {},
   "outputs": [
    {
     "data": {
      "text/plain": [
       "[(3974953939, 'Alteryx'),\n",
       " (3974953939, 'SQL'),\n",
       " (1003470219, 'ABAP'),\n",
       " (1003470219, 'EDI'),\n",
       " (1003470219, 'S/4Hana'),\n",
       " (1003474956, 'Excel'),\n",
       " (1003474956, 'Google Sheets'),\n",
       " (1003474956, 'Power BI'),\n",
       " (1003474956, 'SQL'),\n",
       " (1003474956, 'Tableau'),\n",
       " (1003474950, 'None'),\n",
       " (1003474946, 'Excel'),\n",
       " (1003474946, 'Power BI'),\n",
       " (1003474946, 'SQL'),\n",
       " (1003474930, 'Excel'),\n",
       " (1003474930, 'SQL'),\n",
       " (1003474807, 'Active Directory'),\n",
       " (1003474807, 'Azure Information Protection'),\n",
       " (1003474807, 'CASB'),\n",
       " (1003474807, 'Cloud Technologies'),\n",
       " (1003474807, 'Data classification'),\n",
       " (1003474807, 'Encryption'),\n",
       " (1003474807, 'German'),\n",
       " (1003474807, 'KMS'),\n",
       " (1003474807, 'Microsoft 365'),\n",
       " (1003474807, 'PKI'),\n",
       " (1003474807, 'Scripting Languages'),\n",
       " (1003474807, 'Security Incident Response'),\n",
       " (1003474807, 'TrendMicro ScanMail'),\n",
       " (1003474785, 'Clarity'),\n",
       " (1003474785, 'Google Analytics'),\n",
       " (1003474785, 'Google Tag Manager'),\n",
       " (1003474785, 'Hotjar'),\n",
       " (1003474785, 'Magento'),\n",
       " (1003474768, 'Jira'),\n",
       " (1003474768, 'UML'),\n",
       " (1003473882, 'Excel'),\n",
       " (1003473882, 'Oracle'),\n",
       " (1003473882, 'SQL'),\n",
       " (1003473504, 'Excel'),\n",
       " (1003473504, 'Microsoft Office'),\n",
       " (1003473504, 'SQL'),\n",
       " (1003473070, 'Murex'),\n",
       " (1003472970, 'Agile'),\n",
       " (1003472970, 'eCommerce'),\n",
       " (1003472970, 'SQL'),\n",
       " (1003472969, 'Agile'),\n",
       " (1003472966, 'Excel'),\n",
       " (1003472966, 'PowerPoint'),\n",
       " (1003472966, 'Tableau'),\n",
       " (1003472739, 'Excel'),\n",
       " (1003472739, 'Python'),\n",
       " (1003472739, 'SQL'),\n",
       " (1003472739, 'VBA'),\n",
       " (1003472717, 'None'),\n",
       " (1003472704, 'Python'),\n",
       " (1003472704, 'R'),\n",
       " (1003472704, 'SAS'),\n",
       " (1003472704, 'SQL'),\n",
       " (1003472696, 'Excel'),\n",
       " (1003472696, 'MS Access'),\n",
       " (1003472690, 'Excel'),\n",
       " (1003472690, 'MS Access'),\n",
       " (1003472643, 'BPMN'),\n",
       " (1003472643, 'Confluence'),\n",
       " (1003472643, 'Jira'),\n",
       " (1003472643, 'UML'),\n",
       " (1003472643, 'Visio'),\n",
       " (1003472478, 'JSON'),\n",
       " (1003472478, 'MQ'),\n",
       " (1003472478, 'REST'),\n",
       " (1003472478, 'SQL'),\n",
       " (1003472478, 'XML'),\n",
       " (1003472084, 'SQL'),\n",
       " (1003472084, 'MS SQL Server'),\n",
       " (1003472084, 'Oracle'),\n",
       " (1003472084, 'UML'),\n",
       " (1003472084, 'BPMN'),\n",
       " (1003472073, 'None'),\n",
       " (1003471958, 'SQL'),\n",
       " (1003471958, 'TFS'),\n",
       " (1003471507, 'ERP'),\n",
       " (1003471507, 'SQL'),\n",
       " (1003471347, 'Power BI'),\n",
       " (1003471347, 'SQL'),\n",
       " (1003471057, 'None'),\n",
       " (1003470867, 'SAP'),\n",
       " (1003470867, 'SQL'),\n",
       " (1003470768, 'Adobe Analytics'),\n",
       " (1003470768, 'Google Analytics'),\n",
       " (1003470768, 'Power BI'),\n",
       " (1003470768, 'Python'),\n",
       " (1003470768, 'R'),\n",
       " (1003470768, 'SQL'),\n",
       " (1003470686, 'SQL'),\n",
       " (1003470502, 'Excel'),\n",
       " (1003470502, 'MS Office'),\n",
       " (1003470502, 'Power Point'),\n",
       " (1003470452, 'None'),\n",
       " (1003470016, 'AWS'),\n",
       " (1003470016, 'Azure'),\n",
       " (1003470016, 'Google'),\n",
       " (1003470016, 'scripting'),\n",
       " (10752920, 'ServiceNow'),\n",
       " (1003469806, 'SQL'),\n",
       " (1003469806, 'UML'),\n",
       " (1003469706, 'SQL'),\n",
       " (1003469706, 'UML'),\n",
       " (1003469476, 'BPMN'),\n",
       " (1003469476, 'CASE'),\n",
       " (1003469476, 'UML'),\n",
       " (1003469573, 'Azure Devops'),\n",
       " (1003469573, 'JIRA'),\n",
       " (1003469573, 'UML'),\n",
       " (3973344277, 'Excel'),\n",
       " (3973344277, 'Power BI'),\n",
       " (3973344277, 'Python'),\n",
       " (3973344277, 'SQL'),\n",
       " (3970447865, 'Python'),\n",
       " (3970447865, 'SQL'),\n",
       " (3976908987, 'MongoDB'),\n",
       " (3976908987, 'Python'),\n",
       " (3976908987, 'SQL'),\n",
       " (3970671665, 'SQL'),\n",
       " (3970671665, 'Tableau'),\n",
       " (3976860037, 'Power BI'),\n",
       " (3976860037, 'SQL'),\n",
       " (3976228525, 'Jira'),\n",
       " (3976228525, 'Power Automate'),\n",
       " (3976228525, 'PowerBI'),\n",
       " (3976228525, 'Salesforce'),\n",
       " (3974394182, 'Azure'),\n",
       " (3974394182, 'Power BI'),\n",
       " (3974394182, 'SQL'),\n",
       " (3971213374, 'SQL'),\n",
       " (3971213374, 'Tableau'),\n",
       " (3972260355, 'Alteryx'),\n",
       " (3972260355, 'Power BI'),\n",
       " (3972260355, 'SQL'),\n",
       " (3972260355, 'Tableau'),\n",
       " (3971245112, 'Power BI'),\n",
       " (3971245112, 'Python'),\n",
       " (3971245112, 'SQL'),\n",
       " (3971169784, 'BigQuery'),\n",
       " (3971169784, 'Excel'),\n",
       " (3971169784, 'Google Analytics'),\n",
       " (3971169784, 'Looker Studio'),\n",
       " (3971169784, 'SQL'),\n",
       " (3971169784, 'Tableau'),\n",
       " (3973742728, 'Excel'),\n",
       " (3973742728, 'Power BI'),\n",
       " (3973742728, 'SQL'),\n",
       " (3975169071, 'Excel'),\n",
       " (3975169071, 'Power BI'),\n",
       " (3975169071, 'Python'),\n",
       " (3975169071, 'SQL'),\n",
       " (3975169071, 'Tableau'),\n",
       " (3973313053, 'Python'),\n",
       " (3973313053, 'R'),\n",
       " (3973313053, 'SQL'),\n",
       " (3974303460, 'Python'),\n",
       " (3974303460, 'SQL'),\n",
       " (3977556658, 'DAX'),\n",
       " (3977556658, 'Power BI'),\n",
       " (3977556658, 'Power Query'),\n",
       " (3977556658, 'Python'),\n",
       " (3977556658, 'SQL'),\n",
       " (3973689904, 'Excel'),\n",
       " (3973689904, 'MicroStrategy'),\n",
       " (3973689904, 'Power BI'),\n",
       " (3973689904, 'Tableau'),\n",
       " (3976903722, 'Excel'),\n",
       " (3976903722, 'PowerPoint'),\n",
       " (3976903722, 'Word'),\n",
       " (3972865642, 'Excel'),\n",
       " (3972865642, 'SQL'),\n",
       " (3976906534, 'Excel'),\n",
       " (3976906534, 'PowerPoint'),\n",
       " (3976906534, 'Word'),\n",
       " (3975126224, 'Python'),\n",
       " (3975126224, 'R'),\n",
       " (3975126224, 'SQL'),\n",
       " (3971221918, 'Excel'),\n",
       " (3971221918, 'PowerPoint'),\n",
       " (3918176498, 'Python'),\n",
       " (3918176498, 'SQL'),\n",
       " (3918176498, 'Tableau'),\n",
       " (3974312302, 'Excel'),\n",
       " (3974312302, 'PL/SQL'),\n",
       " (3974312302, 'SQL'),\n",
       " (3974312302, 'SSAS'),\n",
       " (3974312302, 'SSIS'),\n",
       " (3974312302, 'Snowflake'),\n",
       " (3977517569, 'Excel'),\n",
       " (3977517569, 'GCP'),\n",
       " (3977517569, 'Python'),\n",
       " (3977517569, 'SQL'),\n",
       " (3977517569, 'Tableau'),\n",
       " (3975561832, 'Alteryx'),\n",
       " (3975561832, 'Python'),\n",
       " (3975561832, 'SQL'),\n",
       " (3975561832, 'Tableau'),\n",
       " (3973168985, 'Excel'),\n",
       " (3973168985, 'Google Analytics'),\n",
       " (3973168985, 'Looker Studio'),\n",
       " (3973168985, 'Microsoft Dynamics CRM'),\n",
       " (3973168985, 'Plausible'),\n",
       " (3973168985, 'Power BI'),\n",
       " (3973168985, 'SQL'),\n",
       " (3975656376, 'Excel'),\n",
       " (3975656376, 'PowerPoint'),\n",
       " (3975656376, 'Word'),\n",
       " (3970167490, 'Excel'),\n",
       " (3970167490, 'InDesign'),\n",
       " (3970167490, 'PowerPoint'),\n",
       " (3976842290, 'Alteryx'),\n",
       " (3976842290, 'Excel'),\n",
       " (3976842290, 'GitLab'),\n",
       " (3976842290, 'PowerBI'),\n",
       " (3976842290, 'SQL'),\n",
       " (3976842290, 'XML'),\n",
       " (3970468059, 'Excel'),\n",
       " (3970792861, 'Azure Data Factory'),\n",
       " (3970792861, 'Azure Databricks'),\n",
       " (3970792861, 'Azure Data Lake'),\n",
       " (3970792861, 'Excel'),\n",
       " (3970792861, 'Microsoft Azure'),\n",
       " (3970792861, 'Power BI'),\n",
       " (3970792861, 'Python'),\n",
       " (3970792861, 'SQL'),\n",
       " (3974333816, 'Dataiku'),\n",
       " (3974333816, 'ETL'),\n",
       " (3974333816, 'Excel'),\n",
       " (3974333816, 'Python'),\n",
       " (3974333816, 'R'),\n",
       " (3974333816, 'SQL'),\n",
       " (3977040454, 'Agile'),\n",
       " (3977040454, 'Oracle SQL'),\n",
       " (3977040454, 'Python'),\n",
       " (3977040454, 'SDLC'),\n",
       " (3977040454, 'SQL'),\n",
       " (3971917130, 'MS Office'),\n",
       " (3973678442, 'Excel'),\n",
       " (3973678442, 'Python'),\n",
       " (3973678442, 'R'),\n",
       " (3973678442, 'SAS'),\n",
       " (3973678442, 'SQL'),\n",
       " (3973678442, 'SPSS'),\n",
       " (3977037979, 'Oracle SQL'),\n",
       " (3977037979, 'Python'),\n",
       " (3974343868, 'PowerBI'),\n",
       " (3974343868, 'SAP'),\n",
       " (3974343868, 'Success Factor'),\n",
       " (3975875728, 'MS Excel'),\n",
       " (3975875728, 'MS Word'),\n",
       " (3975875728, 'ServiceNow'),\n",
       " (3975194649, 'NET'),\n",
       " (3975194649, 'C#'),\n",
       " (3975194649, 'MS Azure'),\n",
       " (3975194649, 'MS SQL'),\n",
       " (3975194649, 'SQL'),\n",
       " (3973674386, 'Adobe Analytics'),\n",
       " (3973674386, 'JavaScript'),\n",
       " (3975893738, 'Java'),\n",
       " (3975893738, 'SQL'),\n",
       " (3975893738, 'UML'),\n",
       " (3975893738, 'BPMN'),\n",
       " (3975893738, 'MS Office'),\n",
       " (3975893738, 'Sparx Enterprise Architect'),\n",
       " (3975893738, 'Bizagi BPM Modeler'),\n",
       " (3975893738, 'JIRA'),\n",
       " (3975893738, 'Confluence'),\n",
       " (3971405381, 'Excel'),\n",
       " (3971405381, 'LaTeX'),\n",
       " (3971405381, 'Python'),\n",
       " (3971405381, 'R'),\n",
       " (3971405381, 'SQL'),\n",
       " (3971404404, 'Excel'),\n",
       " (3971404404, 'Python'),\n",
       " (3971404404, 'R'),\n",
       " (3971404404, 'SQL'),\n",
       " (3974863471, 'Excel'),\n",
       " (3970168575, 'Excel'),\n",
       " (3970168575, 'Python'),\n",
       " (3970168575, 'SQL'),\n",
       " (3970168575, 'Tableau'),\n",
       " (3970168575, 'VBA'),\n",
       " (3975873890, 'Oracle SQL'),\n",
       " (3975873890, 'Python'),\n",
       " (3975873890, 'SQL'),\n",
       " (3975233508, 'Excel'),\n",
       " (3975233508, 'Python'),\n",
       " (3975233508, 'R'),\n",
       " (3975233508, 'SAS'),\n",
       " (3975233508, 'Scala'),\n",
       " (3975233508, 'SQL'),\n",
       " (3975233508, 'VBA'),\n",
       " (3958103588, 'Python'),\n",
       " (3958103588, 'R'),\n",
       " (3958103588, 'MS Office'),\n",
       " (3975233499, 'Python'),\n",
       " (3975233499, 'R'),\n",
       " (3975233499, 'SAS'),\n",
       " (3975233499, 'Scala'),\n",
       " (3975233499, 'SQL'),\n",
       " (3975233499, 'VBA'),\n",
       " (3972999730, 'Ansible'),\n",
       " (3972999730, 'AWS'),\n",
       " (3972999730, 'Bamboo'),\n",
       " (3972999730, 'Docker'),\n",
       " (3972999730, 'Git'),\n",
       " (3972999730, 'Jupyter'),\n",
       " (3972999730, 'Kubernetes'),\n",
       " (3972999730, 'Matplotlib'),\n",
       " (3972999730, 'Numpy'),\n",
       " (3972999730, 'Pandas'),\n",
       " (3972999730, 'PyTorch'),\n",
       " (3972999730, 'TensorFlow'),\n",
       " (3970168668, 'Adobe Analytics'),\n",
       " (3970168668, 'BigQuery'),\n",
       " (3970168668, 'Excel'),\n",
       " (3970168668, 'Google Analytics'),\n",
       " (3970168668, 'SQL'),\n",
       " (3970168668, 'Tableau'),\n",
       " (3974622310, 'SQL'),\n",
       " (3974622310, 'Python'),\n",
       " (3975161729, 'Elasticsearch'),\n",
       " (3975161729, 'Kubernetes'),\n",
       " (3975161729, 'MongoDB'),\n",
       " (3975416970, 'SQL'),\n",
       " (3975416970, 'dbt'),\n",
       " (3975416970, 'Python'),\n",
       " (3969580334, 'AWS'),\n",
       " (3969580334, 'Excel'),\n",
       " (3969580334, 'GCP'),\n",
       " (3969580334, 'Linux'),\n",
       " (3969580334, 'Python'),\n",
       " (3969580334, 'R'),\n",
       " (3975423380, 'SQL'),\n",
       " (3975423380, 'dbt'),\n",
       " (3975423380, 'GCloud'),\n",
       " (3975423380, 'Python'),\n",
       " (3975421570, 'SQL'),\n",
       " (3975421570, 'dbt'),\n",
       " (3975421570, 'Git'),\n",
       " (3975421570, 'Python'),\n",
       " (3975419711, 'AWS'),\n",
       " (3975419711, 'SQL'),\n",
       " (3975419711, 'Python'),\n",
       " (3975419711, 'Git'),\n",
       " (3975424000, 'SQL'),\n",
       " (3975424000, 'Python'),\n",
       " (3975424000, 'dbt'),\n",
       " (3955673046, 'AWS'),\n",
       " (3955673046, 'DAX'),\n",
       " (3955673046, 'Docker'),\n",
       " (3955673046, 'Git'),\n",
       " (3955673046, 'Kafka'),\n",
       " (3955673046, 'Kubernetes'),\n",
       " (3955673046, 'Python'),\n",
       " (3955673046, 'SQL'),\n",
       " (3971408356, 'Excel'),\n",
       " (3971408356, 'Hadoop'),\n",
       " (3971408356, 'Hive'),\n",
       " (3971408356, 'Impala'),\n",
       " (3971408356, 'PowerPoint'),\n",
       " (3971408356, 'Python'),\n",
       " (3971408356, 'R'),\n",
       " (3971408356, 'SAS'),\n",
       " (3971408356, 'SQL'),\n",
       " (3971408356, 'Tableau'),\n",
       " (3970166586, 'Python'),\n",
       " (3970166586, 'SAAS'),\n",
       " (3970166586, 'SQL'),\n",
       " (3970166586, 'Tableau'),\n",
       " (3975129023, 'Azure'),\n",
       " (3975129023, 'SQL Server'),\n",
       " (3975129023, 'Power BI'),\n",
       " (3976825883, 'DAX'),\n",
       " (3976825883, 'SQL'),\n",
       " (3976825883, 'Power BI'),\n",
       " (3969983745, 'SQL'),\n",
       " (3969983745, 'Excel'),\n",
       " (3969983745, 'Google Sheets'),\n",
       " (3970216027, 'Alteryx'),\n",
       " (3970216027, 'Excel'),\n",
       " (3970216027, 'FpML'),\n",
       " (3970216027, 'GitLab'),\n",
       " (3970216027, 'PowerBI'),\n",
       " (3970216027, 'SQL'),\n",
       " (3970216027, 'XML'),\n",
       " (3970859620, 'Adobe Analytics'),\n",
       " (3970859620, 'Adobe Experience Manager'),\n",
       " (3970859620, 'Adobe Target'),\n",
       " (3970859620, 'Clarity'),\n",
       " (3970859620, 'GTM'),\n",
       " (3970859620, 'Google Analytics'),\n",
       " (3970859620, 'Microsoft Azure'),\n",
       " (3970859620, 'Python'),\n",
       " (3970859620, 'SQL'),\n",
       " (3974958120, 'APEX'),\n",
       " (3974958120, 'C#'),\n",
       " (3974958120, 'CSS'),\n",
       " (3974958120, 'HTML5'),\n",
       " (3974958120, 'JavaScript'),\n",
       " (3974958120, 'Oracle'),\n",
       " (3974958120, 'SQL'),\n",
       " (3971409170, 'Agile'),\n",
       " (3971409170, 'Python'),\n",
       " (3971409170, 'SQL'),\n",
       " (3955673043, 'AWS'),\n",
       " (3955673043, 'DAX'),\n",
       " (3955673043, 'Docker'),\n",
       " (3955673043, 'Git'),\n",
       " (3955673043, 'Kafka'),\n",
       " (3955673043, 'Kubernetes'),\n",
       " (3955673043, 'Power BI'),\n",
       " (3955673043, 'Python'),\n",
       " (3955673043, 'SQL'),\n",
       " (3970169076, 'Excel'),\n",
       " (3970167609, 'Excel'),\n",
       " (3971410206, 'Business Objects'),\n",
       " (3971410206, 'MS Office'),\n",
       " (3971410206, 'PC SAS'),\n",
       " (3971410206, 'Power BI'),\n",
       " (3971410206, 'Python'),\n",
       " (3971410206, 'SQL'),\n",
       " (3971410206, 'Tableau'),\n",
       " (3974148917, 'Celonis'),\n",
       " (3974148917, 'SQL'),\n",
       " (3970169139, 'None'),\n",
       " (3970163653, 'SQL'),\n",
       " (3970163653, 'Tableau'),\n",
       " (3969517425, 'Excel'),\n",
       " (3969517425, 'SharePoint'),\n",
       " (3969517425, 'Tableau'),\n",
       " (3972134934, 'AWS'),\n",
       " (3972134934, 'Azure'),\n",
       " (3972134934, 'GCP'),\n",
       " (3972134934, 'Matlab'),\n",
       " (3972134934, 'Oracle'),\n",
       " (3972134934, 'Power BI'),\n",
       " (3972134934, 'Python'),\n",
       " (3972134934, 'R'),\n",
       " (3972134934, 'SQL'),\n",
       " (3972134934, 'Teradata'),\n",
       " (3976866353, 'Hadoop'),\n",
       " (3976866353, 'Java'),\n",
       " (3976866353, 'Kafka'),\n",
       " (3976866353, 'NoSQL'),\n",
       " (3976866353, 'Python'),\n",
       " (3976866353, 'Scala'),\n",
       " (3976866353, 'Spark'),\n",
       " (3976866353, 'SQL'),\n",
       " (3976650887, 'PL/SQL'),\n",
       " (3976650887, 'PostgreSQL'),\n",
       " (3976650887, 'SQL'),\n",
       " (3970167910, 'AWS'),\n",
       " (3970167910, 'Cloud'),\n",
       " (3970167910, 'EDI'),\n",
       " (3970167910, 'Excel'),\n",
       " (3970167910, 'MS Azure'),\n",
       " (3970167910, 'Power BI'),\n",
       " (3970167910, 'SAP'),\n",
       " (3970167910, 'SQL'),\n",
       " (3970167910, 'Winshuttle'),\n",
       " (3958422948, 'SQL'),\n",
       " (3958422948, 'Excel'),\n",
       " (3972861524, 'DAX'),\n",
       " (3972861524, 'Power BI'),\n",
       " (3972861524, 'SQL'),\n",
       " (3976912274, 'SQL'),\n",
       " (3976912274, 'Tableau'),\n",
       " (3969583351, 'AWS'),\n",
       " (3969583351, 'Apache Airflow'),\n",
       " (3969583351, 'Apache Spark'),\n",
       " (3969583351, 'Databricks'),\n",
       " (3969583351, 'Python'),\n",
       " (3969583351, 'SQL'),\n",
       " (3971405437, 'Airflow'),\n",
       " (3971405437, 'Apache'),\n",
       " (3971405437, 'Azure'),\n",
       " (3971405437, 'Bash'),\n",
       " (3971405437, 'Cloudera'),\n",
       " (3971405437, 'Databricks'),\n",
       " (3971405437, 'Hadoop'),\n",
       " (3971405437, 'Python'),\n",
       " (3971405437, 'Snowflake'),\n",
       " (3971405437, 'Terraform'),\n",
       " (3957814959, 'Celonis'),\n",
       " (3957814959, 'Excel'),\n",
       " (3957814959, 'QPR'),\n",
       " (3957814959, 'SAP'),\n",
       " (3957814959, 'Software AG'),\n",
       " (3957814959, 'UiPath'),\n",
       " (3967710272, 'None'),\n",
       " (3750892534, 'Excel'),\n",
       " (3750892534, 'Python'),\n",
       " (3750892534, 'SQL'),\n",
       " (3750892534, 'Tableau'),\n",
       " (3968336258, 'Tableau'),\n",
       " (3971448527, 'Tableau'),\n",
       " (3970273934, 'MySQL'),\n",
       " (3970273934, 'Oracle'),\n",
       " (3970273934, 'Python'),\n",
       " (3976855945, 'None'),\n",
       " (3969985735, 'Agile'),\n",
       " (3969985735, 'BDD'),\n",
       " (3969985735, 'Customer Journey Mapping'),\n",
       " (3969985735, 'Design Thinking'),\n",
       " (3975159155, 'A/B testing'),\n",
       " (3975159155, 'Excel'),\n",
       " (3975159155, 'Google Analytics'),\n",
       " (3975159155, 'Google Data Studio'),\n",
       " (3975159155, 'SQL'),\n",
       " (3974300189, 'ServiceNow'),\n",
       " (3968338068, 'Tableau'),\n",
       " (3972062955, 'Git'),\n",
       " (3972062955, 'Java'),\n",
       " (3972062955, 'PostgreSQL'),\n",
       " (3972062955, 'SQL'),\n",
       " (3973397838, 'AWS'),\n",
       " (3973397838, 'Python'),\n",
       " (3973397838, 'SQL'),\n",
       " (3971408200, 'BI Tools'),\n",
       " (3971408200, 'Excel'),\n",
       " (3971408200, 'Power BI'),\n",
       " (3971408200, 'Python'),\n",
       " (3971408200, 'SQL'),\n",
       " (3971408200, 'TIBCO Spotfire'),\n",
       " (3975675522, 'UNIX/Linux'),\n",
       " (3975675522, 'TCP/IP'),\n",
       " (3975675522, 'SDN'),\n",
       " (3975941757, 'Bloomberg'),\n",
       " (3975941757, 'Markitwire'),\n",
       " (3975941757, 'Reuters'),\n",
       " (3973760069, 'CSS'),\n",
       " (3973760069, 'Figma'),\n",
       " (3973760069, 'HTML'),\n",
       " (3973760069, 'JavaScript'),\n",
       " (3973760069, 'Lightning Web Components'),\n",
       " (3973760069, 'Salesforce'),\n",
       " (3977516619, 'API'),\n",
       " (3977516619, 'Databases'),\n",
       " (3977516619, 'MQ'),\n",
       " (3977516619, 'OneTrust'),\n",
       " (3970138290, 'Excel'),\n",
       " (3970138290, 'Google Sheets'),\n",
       " (3970138290, 'JIRA'),\n",
       " (3970138290, 'Power BI'),\n",
       " (3970138290, 'Tableau'),\n",
       " (3933804295, 'Excel'),\n",
       " (3933804295, 'Qualtrics'),\n",
       " (3933804295, 'SQL'),\n",
       " (3971404301, 'Excel'),\n",
       " (3971404301, 'SQL'),\n",
       " (3609063993, 'Docker'),\n",
       " (3609063993, 'Elastic'),\n",
       " (3609063993, 'Google Big Query'),\n",
       " (3609063993, 'Hadoop'),\n",
       " (3609063993, 'Java'),\n",
       " (3609063993, 'Jenkins'),\n",
       " (3609063993, 'Kafka'),\n",
       " (3609063993, 'Kafka Streams'),\n",
       " (3609063993, 'Logstash'),\n",
       " (3609063993, 'PostgreSQL'),\n",
       " (3958057493, 'SQL'),\n",
       " (3973119022, 'BPMN'),\n",
       " (3973119022, 'JIRA'),\n",
       " (3973119022, 'MS Office'),\n",
       " (3973119022, 'SQL'),\n",
       " (3973119022, 'UML'),\n",
       " (3941421383, 'Excel'),\n",
       " (3941421383, 'Microsoft Office'),\n",
       " (3941421383, 'SaaS'),\n",
       " (3976873302, 'Python'),\n",
       " (3976873302, 'R'),\n",
       " (3976873302, 'SAS'),\n",
       " (3976873302, 'SQL'),\n",
       " (3936835204, 'SQL'),\n",
       " (3957895454, 'Apache Kafka'),\n",
       " (3957895454, 'Java'),\n",
       " (3957895454, 'MS SQL'),\n",
       " (3957895454, 'PowerShell'),\n",
       " (3976803289, 'ERP'),\n",
       " (3976803289, 'Excel'),\n",
       " (3976803289, 'JD Edwards'),\n",
       " (3976803289, 'Microsoft Excel'),\n",
       " (3976803289, 'Oracle'),\n",
       " (3976803289, 'SAP'),\n",
       " (3976810131, 'Antidot Fluidtopics'),\n",
       " (3976810131, 'DITA'),\n",
       " (3976810131, 'Ixiasoft CCMS'),\n",
       " (3976810131, 'Quanos Schema ST4'),\n",
       " (3976810131, 'XML'),\n",
       " (3977583780, 'D365CRM'),\n",
       " (3970215366, 'Azure'),\n",
       " (3970215366, 'Bot Framework'),\n",
       " (3970215366, 'Cognitive Services'),\n",
       " (3970215366, 'Machine Learning'),\n",
       " (3972957888, 'Big Data'),\n",
       " (3972957888, 'Hadoop'),\n",
       " (3972957888, 'Java'),\n",
       " (3972957888, 'Kafka'),\n",
       " (3972957888, 'PostgreSQL'),\n",
       " (3972957888, 'Python'),\n",
       " (3972957888, 'SQL'),\n",
       " (3972957888, 'Spark'),\n",
       " (3936585886, 'Apache Airflow'),\n",
       " (3936585886, 'Apache Kafka'),\n",
       " (3936585886, 'Apache Spark'),\n",
       " (3936585886, 'AWS'),\n",
       " (3936585886, 'Databricks'),\n",
       " (3936585886, 'Python'),\n",
       " (3936585886, 'SQL'),\n",
       " (3977519558, 'SQL'),\n",
       " (3977519558, 'VBA'),\n",
       " (3977519558, 'Excel'),\n",
       " (3977519558, 'Power BI'),\n",
       " (3970213167, 'Excel'),\n",
       " (3970213167, 'MS Office'),\n",
       " (3970213167, 'SAP/Oracle'),\n",
       " (3894035114, 'AWS'),\n",
       " (3894035114, 'Cloud computing'),\n",
       " (3894035114, 'Java'),\n",
       " (3894035114, 'SQL'),\n",
       " (3894035114, 'UML'),\n",
       " (3894035114, 'Visual Paradigm'),\n",
       " (3957897386, 'Apache Kafka'),\n",
       " (3957897386, 'Clean Code Principles'),\n",
       " (3957897386, 'Data Warehousing'),\n",
       " (3957897386, 'ETL'),\n",
       " (3957897386, 'MS SQL'),\n",
       " (3957897386, 'PowerShell'),\n",
       " (3970861002, 'BPMN'),\n",
       " (3970861002, 'SQL'),\n",
       " (3974956025, 'Agile'),\n",
       " (3974956025, 'Business Process Mapping'),\n",
       " (3974956025, 'CX'),\n",
       " (3974956025, 'eCommerce'),\n",
       " (3974956025, 'Scrum'),\n",
       " (3976939097, 'Java'),\n",
       " (3976939097, 'Jenkins'),\n",
       " (3976939097, 'Kafka'),\n",
       " (3976939097, 'Maven'),\n",
       " (3976939097, 'Oracle'),\n",
       " (3976939097, 'Springboot'),\n",
       " (3976939097, 'WebServices'),\n",
       " (3976662098, 'Java'),\n",
       " (3976662098, 'Jenkins'),\n",
       " (3976662098, 'Kafka'),\n",
       " (3976662098, 'Oracle'),\n",
       " (3976662098, 'PL/SQL'),\n",
       " (3976662098, 'Springboot'),\n",
       " (3976861043, 'Java'),\n",
       " (3976861043, 'Scala'),\n",
       " (3976861043, 'SQL'),\n",
       " (3957893747, 'Apache Kafka'),\n",
       " (3957893747, 'MS SQL'),\n",
       " (3957893747, 'PowerShell'),\n",
       " (3968336299, 'Excel'),\n",
       " (3968336299, 'MS Office'),\n",
       " (3968336299, 'SAP'),\n",
       " (3968336299, 'Oracle'),\n",
       " (3976864375, 'Java'),\n",
       " (3976864375, 'JavaScript'),\n",
       " (3976864375, 'Scala'),\n",
       " (3976864375, 'SQL'),\n",
       " (3976864375, 'Excel'),\n",
       " (3976864375, 'Akka'),\n",
       " (3976864375, 'Kafka'),\n",
       " (3976864375, 'Monix'),\n",
       " (3976864375, 'ReactJS'),\n",
       " (3968333493, 'Excel'),\n",
       " (3968333493, 'SAP'),\n",
       " (3968333493, 'Oracle'),\n",
       " (3972898228, 'Hadoop'),\n",
       " (3972898228, 'Kafka'),\n",
       " (3972898228, 'Spark'),\n",
       " (3958104607, 'CISSP'),\n",
       " (3958104607, 'GCTI'),\n",
       " (3958104607, 'GREM'),\n",
       " (3958104607, 'OSCP'),\n",
       " (3974294272, 'BPMN'),\n",
       " (3974294272, 'Enterprise Architect'),\n",
       " (3974294272, 'GIT'),\n",
       " (3974294272, 'JIRA'),\n",
       " (3974294272, 'PL-SQL'),\n",
       " (3974294272, 'REST'),\n",
       " (3974294272, 'UML'),\n",
       " (3972049751, 'C++'),\n",
       " (3972049751, 'Python'),\n",
       " (3972049751, 'SQL'),\n",
       " (3970169177, 'KQL'),\n",
       " (3970169177, 'Python'),\n",
       " (3970169177, 'Powershell'),\n",
       " (3970169177, 'SIEM'),\n",
       " (3970169177, 'SOAR'),\n",
       " (3968347203, 'Tableau'),\n",
       " (3976829043, 'Akka'),\n",
       " (3976829043, 'Cats'),\n",
       " (3976829043, 'Confluence'),\n",
       " (3976829043, 'GitHub'),\n",
       " (3976829043, 'Java'),\n",
       " (3976829043, 'JIRA'),\n",
       " (3976829043, 'Kafka'),\n",
       " (3976829043, 'Monix'),\n",
       " (3976829043, 'Scala'),\n",
       " (3976829043, 'SQL'),\n",
       " (3976829043, 'JavaScript'),\n",
       " (3974616960, 'Python'),\n",
       " (3968346404, 'BI tools'),\n",
       " (3968346404, 'Excel'),\n",
       " (3968346404, 'MS Office'),\n",
       " (3968346404, 'Oracle'),\n",
       " (3968346404, 'SAP'),\n",
       " (3968346404, 'SQL'),\n",
       " (3881804694, 'Airflow'),\n",
       " (3881804694, 'BigQuery'),\n",
       " (3881804694, 'CI/CD'),\n",
       " (3881804694, 'Dataform'),\n",
       " (3881804694, 'dbt'),\n",
       " (3881804694, 'Docker'),\n",
       " (3881804694, 'Java'),\n",
       " (3881804694, 'Python'),\n",
       " (3881804694, 'Scala'),\n",
       " (3881804694, 'SQL'),\n",
       " (3970971568, 'Blackline'),\n",
       " (3970971568, 'Excel'),\n",
       " (3970971568, 'SAP'),\n",
       " (3938784712, 'CIMA'),\n",
       " (3938784712, 'ACCA'),\n",
       " (3938784712, 'Excel'),\n",
       " (3973367455, 'SQL'),\n",
       " (3973944581, 'Apache Airflow'),\n",
       " (3973944581, 'Apache Beam'),\n",
       " (3973944581, 'Apache Kafka'),\n",
       " (3973944581, 'Cloud Composer'),\n",
       " (3973944581, 'Cloud Dataflow'),\n",
       " (3973944581, 'Cloud Pub/Sub'),\n",
       " (3973944581, 'GCP'),\n",
       " (3973944581, 'SQL'),\n",
       " (3973944581, 'Python'),\n",
       " (3975229529, 'AWS'),\n",
       " (3975229529, 'Azure'),\n",
       " (3975229529, 'bash'),\n",
       " (3975229529, 'Docker'),\n",
       " (3975229529, 'iOS'),\n",
       " (3975229529, 'Jenkins'),\n",
       " (3975229529, 'Linux'),\n",
       " (3975229529, 'macOS'),\n",
       " (3975229529, 'Python'),\n",
       " (3971406095, 'ACL'),\n",
       " (3971406095, 'SQL'),\n",
       " (3973327002, 'SAP'),\n",
       " (3973327002, 'Success Factors'),\n",
       " (3976660044, 'Excel'),\n",
       " (3976660044, 'Google Data Studio'),\n",
       " (3976660044, 'Google Analytics'),\n",
       " (3976660044, 'Power BI'),\n",
       " (3976660044, 'SQL'),\n",
       " (3974622285, 'Excel'),\n",
       " (3974622285, 'SharePoint'),\n",
       " (3974622285, 'Tableau'),\n",
       " (3686060421, 'Excel')]"
      ]
     },
     "execution_count": 73,
     "metadata": {},
     "output_type": "execute_result"
    }
   ],
   "source": [
    "rows"
   ]
  },
  {
   "cell_type": "code",
   "execution_count": 74,
   "metadata": {},
   "outputs": [],
   "source": [
    "unpivoted = pd.DataFrame(rows, columns=['job_id', 'technology'])"
   ]
  },
  {
   "cell_type": "code",
   "execution_count": 75,
   "metadata": {},
   "outputs": [
    {
     "data": {
      "text/plain": [
       "765"
      ]
     },
     "execution_count": 75,
     "metadata": {},
     "output_type": "execute_result"
    }
   ],
   "source": [
    "len(unpivoted)"
   ]
  },
  {
   "cell_type": "code",
   "execution_count": 76,
   "metadata": {},
   "outputs": [],
   "source": [
    "unpivoted.drop_duplicates(subset=['job_id', 'technology'], inplace=True, ignore_index=True)"
   ]
  },
  {
   "cell_type": "code",
   "execution_count": 77,
   "metadata": {},
   "outputs": [
    {
     "data": {
      "text/plain": [
       "765"
      ]
     },
     "execution_count": 77,
     "metadata": {},
     "output_type": "execute_result"
    }
   ],
   "source": [
    "len(unpivoted)"
   ]
  },
  {
   "cell_type": "code",
   "execution_count": 78,
   "metadata": {},
   "outputs": [
    {
     "data": {
      "text/html": [
       "<div>\n",
       "<style scoped>\n",
       "    .dataframe tbody tr th:only-of-type {\n",
       "        vertical-align: middle;\n",
       "    }\n",
       "\n",
       "    .dataframe tbody tr th {\n",
       "        vertical-align: top;\n",
       "    }\n",
       "\n",
       "    .dataframe thead th {\n",
       "        text-align: right;\n",
       "    }\n",
       "</style>\n",
       "<table border=\"1\" class=\"dataframe\">\n",
       "  <thead>\n",
       "    <tr style=\"text-align: right;\">\n",
       "      <th></th>\n",
       "      <th>job_id</th>\n",
       "      <th>technology</th>\n",
       "    </tr>\n",
       "  </thead>\n",
       "  <tbody>\n",
       "    <tr>\n",
       "      <th>0</th>\n",
       "      <td>3974953939</td>\n",
       "      <td>Alteryx</td>\n",
       "    </tr>\n",
       "    <tr>\n",
       "      <th>1</th>\n",
       "      <td>3974953939</td>\n",
       "      <td>SQL</td>\n",
       "    </tr>\n",
       "    <tr>\n",
       "      <th>2</th>\n",
       "      <td>1003470219</td>\n",
       "      <td>ABAP</td>\n",
       "    </tr>\n",
       "    <tr>\n",
       "      <th>3</th>\n",
       "      <td>1003470219</td>\n",
       "      <td>EDI</td>\n",
       "    </tr>\n",
       "    <tr>\n",
       "      <th>4</th>\n",
       "      <td>1003470219</td>\n",
       "      <td>S/4Hana</td>\n",
       "    </tr>\n",
       "    <tr>\n",
       "      <th>5</th>\n",
       "      <td>1003474956</td>\n",
       "      <td>Excel</td>\n",
       "    </tr>\n",
       "    <tr>\n",
       "      <th>6</th>\n",
       "      <td>1003474956</td>\n",
       "      <td>Google Sheets</td>\n",
       "    </tr>\n",
       "    <tr>\n",
       "      <th>7</th>\n",
       "      <td>1003474956</td>\n",
       "      <td>Power BI</td>\n",
       "    </tr>\n",
       "    <tr>\n",
       "      <th>8</th>\n",
       "      <td>1003474956</td>\n",
       "      <td>SQL</td>\n",
       "    </tr>\n",
       "    <tr>\n",
       "      <th>9</th>\n",
       "      <td>1003474956</td>\n",
       "      <td>Tableau</td>\n",
       "    </tr>\n",
       "    <tr>\n",
       "      <th>10</th>\n",
       "      <td>1003474950</td>\n",
       "      <td>None</td>\n",
       "    </tr>\n",
       "    <tr>\n",
       "      <th>11</th>\n",
       "      <td>1003474946</td>\n",
       "      <td>Excel</td>\n",
       "    </tr>\n",
       "    <tr>\n",
       "      <th>12</th>\n",
       "      <td>1003474946</td>\n",
       "      <td>Power BI</td>\n",
       "    </tr>\n",
       "    <tr>\n",
       "      <th>13</th>\n",
       "      <td>1003474946</td>\n",
       "      <td>SQL</td>\n",
       "    </tr>\n",
       "    <tr>\n",
       "      <th>14</th>\n",
       "      <td>1003474930</td>\n",
       "      <td>Excel</td>\n",
       "    </tr>\n",
       "  </tbody>\n",
       "</table>\n",
       "</div>"
      ],
      "text/plain": [
       "        job_id     technology\n",
       "0   3974953939        Alteryx\n",
       "1   3974953939            SQL\n",
       "2   1003470219           ABAP\n",
       "3   1003470219            EDI\n",
       "4   1003470219        S/4Hana\n",
       "5   1003474956          Excel\n",
       "6   1003474956  Google Sheets\n",
       "7   1003474956       Power BI\n",
       "8   1003474956            SQL\n",
       "9   1003474956        Tableau\n",
       "10  1003474950           None\n",
       "11  1003474946          Excel\n",
       "12  1003474946       Power BI\n",
       "13  1003474946            SQL\n",
       "14  1003474930          Excel"
      ]
     },
     "execution_count": 78,
     "metadata": {},
     "output_type": "execute_result"
    }
   ],
   "source": [
    "unpivoted.head(15)"
   ]
  },
  {
   "cell_type": "code",
   "execution_count": 79,
   "metadata": {},
   "outputs": [],
   "source": [
    "ser = unpivoted.technology.value_counts()"
   ]
  },
  {
   "cell_type": "code",
   "execution_count": 80,
   "metadata": {},
   "outputs": [
    {
     "data": {
      "text/plain": [
       "technology\n",
       "SQL         108\n",
       "Excel        64\n",
       "Python       58\n",
       "Power BI     26\n",
       "Tableau      26\n",
       "Name: count, dtype: int64"
      ]
     },
     "execution_count": 80,
     "metadata": {},
     "output_type": "execute_result"
    }
   ],
   "source": [
    "ser.head()"
   ]
  },
  {
   "cell_type": "markdown",
   "metadata": {},
   "source": [
    "#### <div>Creating horizontal bar chart with technology names on y axis and technology count on x axis </div>\n",
    "<div>This chart is needed to identify technologies which represented by different names </div>\n",
    "<div>For example \"Excel\" can be represented as \"MS Excel\" or \"Microsoft Excel\"</div>\n",
    "<div>So it's important to standatize such values to single format</div>"
   ]
  },
  {
   "cell_type": "code",
   "execution_count": 83,
   "metadata": {},
   "outputs": [
    {
     "data": {
      "text/plain": [
       "<Axes: ylabel='technology'>"
      ]
     },
     "execution_count": 83,
     "metadata": {},
     "output_type": "execute_result"
    },
    {
     "data": {
      "image/png": "[encoded data removed]",
      "text/plain": [
       "<Figure size 800x3000 with 1 Axes>"
      ]
     },
     "metadata": {},
     "output_type": "display_data"
    }
   ],
   "source": [
    "ser[ser >= 5].plot(kind='barh', figsize=(8, 30))"
   ]
  },
  {
   "cell_type": "code",
   "execution_count": 84,
   "metadata": {},
   "outputs": [],
   "source": [
    "d = {\n",
    "    'Power BI': ['PowerBI', 'Microsoft PowerBI', 'MS Power BI', 'MS PowerBI', 'Microsoft Power BI'],\n",
    "    'MS Office': ['Microsoft Office', 'Office 365'],\n",
    "    'Excel': ['MS Excel', 'Microsoft Excel'],\n",
    "    'Python' : ['Pandas', 'PyTorch', 'TensorFlow', 'Tensorflow' 'PySpark', 'Matplotlib', 'Seaborn', 'Dash'], # treat python libraries as just python\n",
    "    'PowerPoint': ['Power Point', 'MS Power Point', 'MS PowerPoint' 'Microsoft Power Point', 'Microsoft PowerPoint'],\n",
    "    'Jira':['JIRA', 'jira'],\n",
    "    'MS Word': ['Microsoft Word', 'Word'] \n",
    "}"
   ]
  },
  {
   "cell_type": "code",
   "execution_count": 85,
   "metadata": {},
   "outputs": [],
   "source": [
    "# goes through each key and its value from d dict\n",
    "# and if value is in unpivoted DataFrame, then replace it with key\n",
    "for key in d:\n",
    "    for val in d[key]:\n",
    "        if val in unpivoted.technology.values:\n",
    "            unpivoted.replace(val, key, inplace=True)"
   ]
  },
  {
   "cell_type": "markdown",
   "metadata": {},
   "source": [
    "### Loading data into the data base"
   ]
  },
  {
   "cell_type": "markdown",
   "metadata": {},
   "source": [
    "#### Reordering DataFrame fields to match the database schema to avoid error"
   ]
  },
  {
   "cell_type": "code",
   "execution_count": 86,
   "metadata": {},
   "outputs": [],
   "source": [
    "conn, cur = db.connect_to_db()"
   ]
  },
  {
   "cell_type": "code",
   "execution_count": 87,
   "metadata": {},
   "outputs": [],
   "source": [
    "db_headers = db.get_headers(conn,cur)"
   ]
  },
  {
   "cell_type": "code",
   "execution_count": 88,
   "metadata": {},
   "outputs": [],
   "source": [
    "df = df[db_headers]"
   ]
  },
  {
   "cell_type": "markdown",
   "metadata": {},
   "source": [
    "#### Loading database connection parameters"
   ]
  },
  {
   "cell_type": "code",
   "execution_count": 89,
   "metadata": {},
   "outputs": [],
   "source": [
    "conn_params =  db.conn_params"
   ]
  },
  {
   "cell_type": "code",
   "execution_count": 90,
   "metadata": {},
   "outputs": [
    {
     "data": {
      "text/plain": [
       "{'dbname': 'jobs',\n",
       " 'user': 'postgres',\n",
       " 'password': 'admin',\n",
       " 'host': 'localhost',\n",
       " 'port': '5432'}"
      ]
     },
     "execution_count": 90,
     "metadata": {},
     "output_type": "execute_result"
    }
   ],
   "source": [
    "conn_params"
   ]
  },
  {
   "cell_type": "markdown",
   "metadata": {},
   "source": [
    "#### Creating engine to load data to database"
   ]
  },
  {
   "cell_type": "code",
   "execution_count": 91,
   "metadata": {},
   "outputs": [],
   "source": [
    "engine = create_engine('postgresql+psycopg2://{user}:{password}@{host}:{port}/{dbname}'.format(**conn_params))"
   ]
  },
  {
   "cell_type": "code",
   "execution_count": 92,
   "metadata": {},
   "outputs": [],
   "source": [
    "df.replace(\"True\", True, inplace=True)\n",
    "df.replace(\"False\", False, inplace=True)\n",
    "df.replace('None', None, inplace=True)"
   ]
  },
  {
   "cell_type": "markdown",
   "metadata": {},
   "source": [
    "Loading `jobs info` data into data base as `jobs_info` table"
   ]
  },
  {
   "cell_type": "code",
   "execution_count": 93,
   "metadata": {},
   "outputs": [
    {
     "data": {
      "text/plain": [
       "193"
      ]
     },
     "execution_count": 93,
     "metadata": {},
     "output_type": "execute_result"
    }
   ],
   "source": [
    "df.to_sql('jobs_info', engine, if_exists='append', index=False)"
   ]
  },
  {
   "cell_type": "markdown",
   "metadata": {},
   "source": [
    "Loading `unpivoted technologies` data into data base as `technologies_per_job` table"
   ]
  },
  {
   "cell_type": "code",
   "execution_count": 94,
   "metadata": {},
   "outputs": [
    {
     "data": {
      "text/plain": [
       "765"
      ]
     },
     "execution_count": 94,
     "metadata": {},
     "output_type": "execute_result"
    }
   ],
   "source": [
    "unpivoted.to_sql('technologies_per_job', engine, if_exists='append', index=False)"
   ]
  },
  {
   "cell_type": "markdown",
   "metadata": {},
   "source": [
    "## Deleting the uncleaned jobs CSV file\n",
    "Once the data is loaded into the database, the uncleaned CSV file is deleted."
   ]
  },
  {
   "cell_type": "code",
   "execution_count": 95,
   "metadata": {},
   "outputs": [
    {
     "name": "stdout",
     "output_type": "stream",
     "text": [
      "The file c:\\Users\\ivanb\\OneDrive\\Рабочий стол\\scraping_ETL\\data\\uncleaned_jobs.csv has been deleted successfully.\n"
     ]
    }
   ],
   "source": [
    "pandas_csv.delete_file(prev_dir + \"data\\\\uncleaned_jobs.csv\")"
   ]
  }
 ],
 "metadata": {
  "kernelspec": {
   "display_name": "Python 3",
   "language": "python",
   "name": "python3"
  },
  "language_info": {
   "codemirror_mode": {
    "name": "ipython",
    "version": 3
   },
   "file_extension": ".py",
   "mimetype": "text/x-python",
   "name": "python",
   "nbconvert_exporter": "python",
   "pygments_lexer": "ipython3",
   "version": "3.11.4"
  }
 },
 "nbformat": 4,
 "nbformat_minor": 2
}
